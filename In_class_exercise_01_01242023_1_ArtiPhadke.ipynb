{
  "cells": [
    {
      "cell_type": "markdown",
      "metadata": {
        "id": "view-in-github",
        "colab_type": "text"
      },
      "source": [
        "<a href=\"https://colab.research.google.com/github/ArtiPhadke/Arti_INFO5731_Spring2023/blob/main/In_class_exercise_01_01242023_1_ArtiPhadke.ipynb\" target=\"_parent\"><img src=\"https://colab.research.google.com/assets/colab-badge.svg\" alt=\"Open In Colab\"/></a>"
      ]
    },
    {
      "cell_type": "markdown",
      "metadata": {
        "id": "DymRJbxDBCnf"
      },
      "source": [
        "# **The first In-class-exercise (01/24/2023, 40 points in total)**"
      ]
    },
    {
      "cell_type": "markdown",
      "metadata": {
        "id": "03jb4GZsBkBS"
      },
      "source": [
        "(1) Write a Python program to calculate the length of a string. (4 points)"
      ]
    },
    {
      "cell_type": "code",
      "execution_count": 1,
      "metadata": {
        "colab": {
          "base_uri": "https://localhost:8080/"
        },
        "id": "YaGLbSHHB8Ej",
        "outputId": "4abad5aa-c0c3-4e30-d3db-82d323d273ff"
      },
      "outputs": [
        {
          "output_type": "stream",
          "name": "stdout",
          "text": [
            "Enter a string of your choice: In-class-exercise\n",
            "Length of string 'In-class-exercise' is 17\n"
          ]
        }
      ],
      "source": [
        "# write your answer here\n",
        "\n",
        "# Take input string from user\n",
        "myString_aap =input(\"Enter a string of your choice: \")\n",
        "\n",
        "# Calculate the length of string using len function\n",
        "strLen_aap = len(myString_aap)\n",
        "\n",
        "# Display the length of inputted string\n",
        "print(f\"Length of string '{myString_aap}' is {strLen_aap}\")"
      ]
    },
    {
      "cell_type": "markdown",
      "metadata": {
        "id": "jJDe71iLB616"
      },
      "source": [
        "(2) Write a Python program to count the number of characters in a string. (4 points)\n",
        "\n",
        "Sample String : 'google.com‘, \n",
        "\n",
        "Expected Result : {'o': 3, 'g': 2, '.': 1, 'e': 1, 'l': 1, 'm': 1, 'c': 1}"
      ]
    },
    {
      "cell_type": "code",
      "execution_count": 2,
      "metadata": {
        "colab": {
          "base_uri": "https://localhost:8080/"
        },
        "id": "MtKskTzbCLaU",
        "outputId": "255953a1-a157-467f-aa7f-2ac9a179bba8"
      },
      "outputs": [
        {
          "output_type": "stream",
          "name": "stdout",
          "text": [
            "Enter string of your choice: google.com\n",
            "{'e': 1, 'l': 1, 'c': 1, 'm': 1, 'g': 2, 'o': 3, '.': 1}\n"
          ]
        }
      ],
      "source": [
        "# write your answer here\n",
        "\n",
        "# Take input string from user\n",
        "myString1_aap =input(\"Enter string of your choice: \")\n",
        "\n",
        "# Convert the string into set for retaining only unique characters\n",
        "mySet1_aap = set(myString1_aap)\n",
        "\n",
        "# Create an empty dictionary\n",
        "dict1_aap = {}\n",
        "\n",
        "for i in mySet1_aap:\n",
        "    # Fill the dictionary using unique characters and their counts\n",
        "    dict1_aap[i] = myString1_aap.count(i)\n",
        "    \n",
        "# Print the dictionary elements\n",
        "print(dict1_aap)"
      ]
    },
    {
      "cell_type": "markdown",
      "metadata": {
        "id": "55W9AMdXCSpV"
      },
      "source": [
        "(3) Write a Python program to sum all the items in a list. (4 points)"
      ]
    },
    {
      "cell_type": "code",
      "execution_count": null,
      "metadata": {
        "id": "I57NXsauCec2",
        "outputId": "f52edfde-1696-4c07-edb1-33b105503f43"
      },
      "outputs": [
        {
          "name": "stdout",
          "output_type": "stream",
          "text": [
            "Sum of all the items in the list is 21\n"
          ]
        }
      ],
      "source": [
        "# write your answer here\n",
        "\n",
        "# Create a list containing integers\n",
        "myList_aap = [1,2,3,4,5,6]\n",
        "\n",
        "# Create a variable to hold the sum\n",
        "sum_aap = 0\n",
        "\n",
        "# Loop through the list to calculate the sum\n",
        "for i in myList_aap:\n",
        "    sum_aap += i\n",
        "    \n",
        "# Display the sum\n",
        "print('Sum of all the items in the list is', sum_aap)"
      ]
    },
    {
      "cell_type": "markdown",
      "metadata": {
        "id": "4ulBZ6yhCi9F"
      },
      "source": [
        "(4) Write a Python program to get a string from a given string where all occurrences of its first char have been changed to '\\$', except the first char itself. (4 points)\n",
        "\n",
        "Sample String : 'restart‘, \n",
        "\n",
        "Expected Result : 'resta\\$t'"
      ]
    },
    {
      "cell_type": "code",
      "execution_count": 3,
      "metadata": {
        "colab": {
          "base_uri": "https://localhost:8080/"
        },
        "id": "Fj0XhwbBCw2o",
        "outputId": "8e8282ab-aa39-4212-e660-1338b222105e"
      },
      "outputs": [
        {
          "output_type": "stream",
          "name": "stdout",
          "text": [
            "Enter string of your choice: restart\n",
            "resta$t\n"
          ]
        }
      ],
      "source": [
        "# write your answer here\n",
        "\n",
        "# Take input string from user\n",
        "myString1_aap =input(\"Enter string of your choice: \")\n",
        "\n",
        "# Retrieve the first character\n",
        "firstchar_aap = myString1_aap[0]\n",
        "\n",
        "# Loop through the string to find the occurences of first character\n",
        "for i in range(1, len(myString1_aap)):\n",
        "        if myString1_aap[i] == firstchar_aap:\n",
        "            # Replace the occurences with '$' character\n",
        "            myString1_aap=myString1_aap[0:i]+'$'+myString1_aap[i+1:]\n",
        "\n",
        "# Print the modified string\n",
        "print(myString1_aap)"
      ]
    },
    {
      "cell_type": "markdown",
      "metadata": {
        "id": "_bIP7s1MCzue"
      },
      "source": [
        "(5) Write a program with python which could accept two parameter a and b to calculate and output the result of S, where \n",
        "\n",
        "$\\ S=3.14*(1+a/b)^3$ (4 points)\n",
        "\n"
      ]
    },
    {
      "cell_type": "code",
      "execution_count": 4,
      "metadata": {
        "colab": {
          "base_uri": "https://localhost:8080/"
        },
        "id": "w79QilHXD3Mg",
        "outputId": "64f872f5-6315-4666-a008-68c4008c5f23"
      },
      "outputs": [
        {
          "output_type": "stream",
          "name": "stdout",
          "text": [
            "Enter value for a: 5\n",
            "Enter value for b: 7\n",
            "Answer = 15.82\n"
          ]
        }
      ],
      "source": [
        "# write your answer here\n",
        "\n",
        "# define a function to calculate the output result S, with 2 input values a and b\n",
        "def calculate_aap(a,b):\n",
        "    # Perform the multiplication\n",
        "    S_aap = 3.14* ((1+ (a/b))**3)\n",
        "    # return the value of S\n",
        "    return S_aap\n",
        "\n",
        "#  define the main function\n",
        "def main():\n",
        "    # Ask user to enter the value of a\n",
        "    a = int(input(\"Enter value for a: \"))\n",
        "    \n",
        "    # Ask user to enter the value of b\n",
        "    b = int(input(\"Enter value for b: \"))\n",
        "\n",
        "    # Calculate the answer using calculate() function\n",
        "    answer_aap = calculate_aap(a,b)\n",
        "\n",
        "    # Display the answer to the user\n",
        "    print(\"Answer = {:.2f}\".format(answer_aap))\n",
        "\n",
        "main()"
      ]
    },
    {
      "cell_type": "markdown",
      "metadata": {
        "id": "xCa2bK9aD4Q3"
      },
      "source": [
        "(6) Write a Python program to concatenate following dictionaries to create a new one. (4 points)\n",
        "\n",
        "Sample Dictionary : dic1={1:10, 2:20}, dic2={3:30, 4:40}, dic3={5:50,6:60}, \n",
        "\n",
        "Expected Result : {1: 10, 2: 20, 3: 30, 4: 40, 5: 50, 6: 60}\n"
      ]
    },
    {
      "cell_type": "code",
      "execution_count": 5,
      "metadata": {
        "colab": {
          "base_uri": "https://localhost:8080/"
        },
        "id": "_z4aLqAbEET1",
        "outputId": "cb6cfae7-9b27-44f4-c4dc-473a75e2582d"
      },
      "outputs": [
        {
          "output_type": "stream",
          "name": "stdout",
          "text": [
            " dic1 is : {1: 10, 2: 20} \n",
            " dic2 is : {3: 30, 4: 40} \n",
            " dic3 is : {5: 50, 6: 60} \n",
            " answer is: {1: 10, 2: 20, 3: 30, 4: 40, 5: 50, 6: 60}\n"
          ]
        }
      ],
      "source": [
        "# write your answer here\n",
        "\n",
        "# Creating the sample dictionaries\n",
        "dic1={1:10, 2:20}\n",
        "dic2={3:30, 4:40}\n",
        "dic3={5:50,6:60}\n",
        "\n",
        "# Creating empty list\n",
        "number_list1_aap = []\n",
        "\n",
        "# Appending all the values from 3 dictionaries into list \n",
        "number_list1_aap.extend(dic1.values())\n",
        "number_list1_aap.extend(dic2.values()) \n",
        "number_list1_aap.extend(dic3.values()) \n",
        "\n",
        "# Creating another empty list\n",
        "number_list2_aap = []\n",
        "\n",
        "# Appending all the keys from 3 dictionaries into list \n",
        "number_list2_aap.extend(dic1.keys())\n",
        "number_list2_aap.extend(dic2.keys()) \n",
        "number_list2_aap.extend(dic3.keys()) \n",
        "\n",
        "# Mapping the keys to values\n",
        "answer_dic_aap = {}\n",
        "for var1, var2 in zip(number_list2_aap, number_list1_aap):\n",
        "    answer_dic_aap[var1] = var2\n",
        "\n",
        "# Printing the final dictionary\n",
        "print(f' dic1 is : {dic1} \\n dic2 is : {dic2} \\n dic3 is : {dic3} ')\n",
        "print(f' answer is: {answer_dic_aap}')"
      ]
    },
    {
      "cell_type": "markdown",
      "metadata": {
        "id": "0v48Vqa7FrQh"
      },
      "source": [
        "(7) Write a Python program to check whether an element exists within a tuple. (4 points)"
      ]
    },
    {
      "cell_type": "code",
      "execution_count": 6,
      "metadata": {
        "colab": {
          "base_uri": "https://localhost:8080/"
        },
        "id": "7WEmgq-DF2P1",
        "outputId": "e774e58b-647a-4fb1-9694-818771b2b794"
      },
      "outputs": [
        {
          "output_type": "stream",
          "name": "stdout",
          "text": [
            "Enter a number: 5\n",
            "5 exists in tuple (1, 2, 3, 4, 5, 6, 7)\n"
          ]
        }
      ],
      "source": [
        "# write your answer here\n",
        "\n",
        "# Creating a tuple\n",
        "myTuple_aap = (1,2,3,4,5,6,7)\n",
        "\n",
        "# Input a number from user\n",
        "myElem_aap = int(input(\"Enter a number: \"))\n",
        "\n",
        "# Checking if the elment exists in the tuple & write the output accordingly\n",
        "if myElem_aap in myTuple_aap:\n",
        "    print(f'{myElem_aap} exists in tuple {myTuple_aap}')\n",
        "    \n",
        "else:\n",
        "    print(f'{myElem_aap} does not exist in tuple {myTuple_aap}')\n",
        "    "
      ]
    },
    {
      "cell_type": "markdown",
      "metadata": {
        "id": "vD5PYLMuGga_"
      },
      "source": [
        "(8) Write a Python program to find maximum and the minimum value in a set. (4 points)"
      ]
    },
    {
      "cell_type": "code",
      "execution_count": 7,
      "metadata": {
        "colab": {
          "base_uri": "https://localhost:8080/"
        },
        "id": "t0D5kdJUGjjw",
        "outputId": "49354b10-35d8-47bb-b0f4-7d4a46f02be1"
      },
      "outputs": [
        {
          "output_type": "stream",
          "name": "stdout",
          "text": [
            "Minimum value in my set is:  1\n",
            "Maximum value in my set is:  9\n"
          ]
        }
      ],
      "source": [
        "# write your answer here\n",
        "\n",
        "# Creating a set\n",
        "mySet_aap = set([1,2,3,5,3,2,5,3,7,9,9])\n",
        "\n",
        "# Finding and printing minimum value from the set\n",
        "print(\"Minimum value in my set is: \", min(mySet_aap))\n",
        "\n",
        "# Finding and printing maximum value from the set\n",
        "print(\"Maximum value in my set is: \", max(mySet_aap))"
      ]
    },
    {
      "cell_type": "markdown",
      "metadata": {
        "id": "uHkd-y5VhVWC"
      },
      "source": [
        "(9) Write a Python program to randomly divide the students in this class into six groups for term projects, each group should have at least 4 students but no more than 6 students (including 6). Here is the students list: (4 points)\n",
        "\n",
        "studnet_list = ['ja0964','sa1198','sb1357','vb0218','sc1229','kg0569','kg0470','sg1297','bg0320','fh0141','jl1252','sk1386',\n",
        "           'ak0956','sk1390','sk1458','sk1313','ak0934','vm0377','nm0618','sm1640','sm1907','gn0108','pr0353','dr0609','ms1500','aos0040','ds0814', 'av0659','nv0234','hy0232']"
      ]
    },
    {
      "cell_type": "code",
      "execution_count": 8,
      "metadata": {
        "colab": {
          "base_uri": "https://localhost:8080/"
        },
        "id": "61pqT15HAIDj",
        "outputId": "2e42d911-d4af-4244-ff7f-58f72185eb20"
      },
      "outputs": [
        {
          "output_type": "stream",
          "name": "stdout",
          "text": [
            "[3, 2, 24, 4, 12, 23, 14, 22, 20, 28, 21, 1, 18, 16, 0, 13, 11, 8, 27, 19, 26, 15, 9, 25, 5, 6, 29, 10, 7, 17]\n",
            "Group 1 =  ['ja0964', 'sa1198', 'sb1357', 'vb0218', 'sc1229']\n",
            "Group 2 =  ['kg0569', 'kg0470', 'sg1297', 'bg0320', 'fh0141']\n",
            "Group 3 =  ['jl1252', 'sk1386', 'ak0956', 'sk1390', 'sk1458']\n",
            "Group 4 =  ['sk1313', 'ak0934', 'vm0377', 'nm0618', 'sm1640']\n",
            "Group 5 =  ['sm1907', 'gn0108', 'pr0353', 'dr0609', 'ms1500']\n",
            "Group 6 =  ['aos0040', 'ds0814', 'av0659', 'nv0234', 'hy0232']\n"
          ]
        }
      ],
      "source": [
        "# write your answer here\n",
        "\n",
        "import random\n",
        "\n",
        "# Creating a list using given students\n",
        "student_list_aap = ['ja0964','sa1198','sb1357','vb0218','sc1229','kg0569','kg0470','sg1297','bg0320','fh0141','jl1252','sk1386',\n",
        "                'ak0956','sk1390','sk1458','sk1313','ak0934','vm0377','nm0618','sm1640','sm1907','gn0108','pr0353','dr0609',\n",
        "                'ms1500','aos0040','ds0814', 'av0659','nv0234','hy0232']\n",
        "\n",
        "\n",
        "# Create an empty list to hold first 30 integers in random order\n",
        "li=range(0,30)\n",
        "groups_list_aap = random.sample(li,30)\n",
        "\n",
        "# List of first 30 numbers in random order\n",
        "print(groups_list_aap)\n",
        "\n",
        "# Creating 6 empty lists to hold group member names\n",
        "stud_group_aap0 = []\n",
        "stud_group_aap1 = []\n",
        "stud_group_aap2 = []\n",
        "stud_group_aap3 = []\n",
        "stud_group_aap4 = []\n",
        "stud_group_aap5 = []\n",
        "\n",
        "# Fill the 6 empty lists, with 5 student names each, using group of 5 elements from the random order list\n",
        "for i in range(0,5):\n",
        "    stud_group_aap0.append(student_list_aap[i])\n",
        "\n",
        "for i in range(5,10):\n",
        "    stud_group_aap1.append(student_list_aap[i])\n",
        "    \n",
        "for i in range(10,15):\n",
        "    stud_group_aap2.append(student_list_aap[i])\n",
        "    \n",
        "for i in range(15,20):\n",
        "    stud_group_aap3.append(student_list_aap[i])\n",
        "    \n",
        "for i in range(20,25):\n",
        "    stud_group_aap4.append(student_list_aap[i])\n",
        "    \n",
        "for i in range(25,30):\n",
        "    stud_group_aap5.append(student_list_aap[i])\n",
        "    \n",
        "# Print the 6 group member names\n",
        "print('Group 1 = ',stud_group_aap0)\n",
        "print('Group 2 = ',stud_group_aap1)\n",
        "print('Group 3 = ',stud_group_aap2)\n",
        "print('Group 4 = ',stud_group_aap3)\n",
        "print('Group 5 = ',stud_group_aap4)\n",
        "print('Group 6 = ',stud_group_aap5)"
      ]
    },
    {
      "cell_type": "markdown",
      "metadata": {
        "id": "ap1jwv9lAIDk"
      },
      "source": [
        "(10) Write a Python program to find the duplicate elements in a given array of integers. Return -1 If there are no such elements. (4 points)"
      ]
    },
    {
      "cell_type": "code",
      "execution_count": 9,
      "metadata": {
        "colab": {
          "base_uri": "https://localhost:8080/"
        },
        "id": "oO157yOFAIDl",
        "outputId": "21cfc0f6-288e-41b3-ebf2-ded255e57d85"
      },
      "outputs": [
        {
          "output_type": "stream",
          "name": "stdout",
          "text": [
            "Element 11 is repeated\n",
            "Element 12 is repeated\n",
            "There are 2 repeated elements\n"
          ]
        }
      ],
      "source": [
        "# write your answer here\n",
        "import numpy as np \n",
        "\n",
        "def main():\n",
        "    # Create an array with few integers\n",
        "    myArray_aap = np.array([11,12,14,13,12,11,10])\n",
        "    # Calling the function to check for duplicate elements\n",
        "    result_aap = checkMyarray(myArray_aap)\n",
        "    # Calling the function to check for duplicate elements\n",
        "    if result_aap == -1:\n",
        "        print(f\"{result_aap} is returned means there are no repeat elements \")\n",
        "    else:\n",
        "        print(f\"There are {result_aap} repeated elements\")\n",
        "\n",
        "# Create a function to check if array has repeat elements\n",
        "def checkMyarray(myArray_aap):\n",
        "    count_aap = 0\n",
        "    for i in range(0, len(myArray_aap)):\n",
        "        for j in range(i+1, len(myArray_aap)):\n",
        "            # if repeat elements are found, those are printed\n",
        "            if myArray_aap[i] == myArray_aap[j]:\n",
        "                print(f\"Element {myArray_aap[i]} is repeated\")\n",
        "                count_aap+=1\n",
        "\n",
        "    # return -1 if no repeats are found, else return the count of repeat elements            \n",
        "    if count_aap == 0:\n",
        "        return -1\n",
        "    else:\n",
        "        return count_aap\n",
        "            \n",
        "main()"
      ]
    },
    {
      "cell_type": "markdown",
      "metadata": {
        "id": "K1Y_wnT-AIDm"
      },
      "source": [
        "(11) Write a Python program to select all the Sundays of a specified year. (4 extra points)"
      ]
    },
    {
      "cell_type": "code",
      "execution_count": null,
      "metadata": {
        "id": "BV8sFqDrAIDn"
      },
      "outputs": [],
      "source": [
        "# write your answer here\n"
      ]
    }
  ],
  "metadata": {
    "colab": {
      "provenance": [],
      "include_colab_link": true
    },
    "kernelspec": {
      "display_name": "Python 3",
      "language": "python",
      "name": "python3"
    },
    "language_info": {
      "codemirror_mode": {
        "name": "ipython",
        "version": 3
      },
      "file_extension": ".py",
      "mimetype": "text/x-python",
      "name": "python",
      "nbconvert_exporter": "python",
      "pygments_lexer": "ipython3",
      "version": "3.8.8"
    }
  },
  "nbformat": 4,
  "nbformat_minor": 0
}