{
  "cells": [
    {
      "cell_type": "markdown",
      "metadata": {
        "id": "view-in-github",
        "colab_type": "text"
      },
      "source": [
        "<a href=\"https://colab.research.google.com/github/ArtiPhadke/Arti_INFO5731_Spring2023/blob/main/In_class_exercise_05_04182023.ipynb\" target=\"_parent\"><img src=\"https://colab.research.google.com/assets/colab-badge.svg\" alt=\"Open In Colab\"/></a>"
      ]
    },
    {
      "cell_type": "markdown",
      "metadata": {
        "id": "SMdt_aiJSzwz"
      },
      "source": [
        "# **The fifth in-class-exercise (40 points in total, 4/18/2023)**"
      ]
    },
    {
      "cell_type": "markdown",
      "metadata": {
        "id": "4Ggv4WbHSzw2"
      },
      "source": [
        "Arti Phadke - in-class exercise 5"
      ]
    },
    {
      "cell_type": "markdown",
      "metadata": {
        "id": "QpbgUPXnSzw3"
      },
      "source": [
        "(20 points) The purpose of the question is to practice different machine learning algorithms for text classification as well as the performance evaluation. In addition, you are requried to conduct *10 fold cross validation (https://scikit-learn.org/stable/modules/cross_validation.html)* in the training. \n",
        "\n",
        "The dataset can be download from canvas. The dataset contains two files train data and test data for sentiment analysis in IMDB review, it has two categories: 1 represents positive and 0 represents negative. You need to split the training data into training and validate data (80% for training and 20% for validation, https://towardsdatascience.com/train-test-split-and-cross-validation-in-python-80b61beca4b6) and perform 10 fold cross validation while training the classifier. The final trained model was final evaluated on the test data. \n",
        "\n",
        "Algorithms:\n",
        "\n",
        "(1) MultinominalNB\n",
        "\n",
        "(2) SVM \n",
        "\n",
        "(3) KNN \n",
        "\n",
        "(4) Decision tree\n",
        "\n",
        "(5) Random Forest\n",
        "\n",
        "(6) XGBoost\n",
        "\n",
        "(7) Word2Vec\n",
        "\n",
        "(8) BERT\n",
        "\n",
        "Evaluation measurement:\n",
        "\n",
        "(1) Accuracy\n",
        "\n",
        "(2) Recall\n",
        "\n",
        "(3) Precison \n",
        "\n",
        "(4) F-1 score"
      ]
    },
    {
      "cell_type": "code",
      "execution_count": null,
      "metadata": {
        "colab": {
          "base_uri": "https://localhost:8080/",
          "height": 206
        },
        "id": "7MR4vqg3Szw4",
        "outputId": "c8bdb7d0-f3e7-45c5-8449-b0ffa334dd00"
      },
      "outputs": [
        {
          "output_type": "execute_result",
          "data": {
            "text/plain": [
              "   review                                               text\n",
              "0       1  a stirring , funny and finally transporting re...\n",
              "1       0  apparently reassembled from the cutting-room f...\n",
              "2       0  they presume their audience wo n't sit still f...\n",
              "3       1  this is a visually stunning rumination on love...\n",
              "4       1  jonathan parker 's bartleby should have been t..."
            ],
            "text/html": [
              "\n",
              "  <div id=\"df-04e94ac5-07a2-4e4c-8ece-1234471d9977\">\n",
              "    <div class=\"colab-df-container\">\n",
              "      <div>\n",
              "<style scoped>\n",
              "    .dataframe tbody tr th:only-of-type {\n",
              "        vertical-align: middle;\n",
              "    }\n",
              "\n",
              "    .dataframe tbody tr th {\n",
              "        vertical-align: top;\n",
              "    }\n",
              "\n",
              "    .dataframe thead th {\n",
              "        text-align: right;\n",
              "    }\n",
              "</style>\n",
              "<table border=\"1\" class=\"dataframe\">\n",
              "  <thead>\n",
              "    <tr style=\"text-align: right;\">\n",
              "      <th></th>\n",
              "      <th>review</th>\n",
              "      <th>text</th>\n",
              "    </tr>\n",
              "  </thead>\n",
              "  <tbody>\n",
              "    <tr>\n",
              "      <th>0</th>\n",
              "      <td>1</td>\n",
              "      <td>a stirring , funny and finally transporting re...</td>\n",
              "    </tr>\n",
              "    <tr>\n",
              "      <th>1</th>\n",
              "      <td>0</td>\n",
              "      <td>apparently reassembled from the cutting-room f...</td>\n",
              "    </tr>\n",
              "    <tr>\n",
              "      <th>2</th>\n",
              "      <td>0</td>\n",
              "      <td>they presume their audience wo n't sit still f...</td>\n",
              "    </tr>\n",
              "    <tr>\n",
              "      <th>3</th>\n",
              "      <td>1</td>\n",
              "      <td>this is a visually stunning rumination on love...</td>\n",
              "    </tr>\n",
              "    <tr>\n",
              "      <th>4</th>\n",
              "      <td>1</td>\n",
              "      <td>jonathan parker 's bartleby should have been t...</td>\n",
              "    </tr>\n",
              "  </tbody>\n",
              "</table>\n",
              "</div>\n",
              "      <button class=\"colab-df-convert\" onclick=\"convertToInteractive('df-04e94ac5-07a2-4e4c-8ece-1234471d9977')\"\n",
              "              title=\"Convert this dataframe to an interactive table.\"\n",
              "              style=\"display:none;\">\n",
              "        \n",
              "  <svg xmlns=\"http://www.w3.org/2000/svg\" height=\"24px\"viewBox=\"0 0 24 24\"\n",
              "       width=\"24px\">\n",
              "    <path d=\"M0 0h24v24H0V0z\" fill=\"none\"/>\n",
              "    <path d=\"M18.56 5.44l.94 2.06.94-2.06 2.06-.94-2.06-.94-.94-2.06-.94 2.06-2.06.94zm-11 1L8.5 8.5l.94-2.06 2.06-.94-2.06-.94L8.5 2.5l-.94 2.06-2.06.94zm10 10l.94 2.06.94-2.06 2.06-.94-2.06-.94-.94-2.06-.94 2.06-2.06.94z\"/><path d=\"M17.41 7.96l-1.37-1.37c-.4-.4-.92-.59-1.43-.59-.52 0-1.04.2-1.43.59L10.3 9.45l-7.72 7.72c-.78.78-.78 2.05 0 2.83L4 21.41c.39.39.9.59 1.41.59.51 0 1.02-.2 1.41-.59l7.78-7.78 2.81-2.81c.8-.78.8-2.07 0-2.86zM5.41 20L4 18.59l7.72-7.72 1.47 1.35L5.41 20z\"/>\n",
              "  </svg>\n",
              "      </button>\n",
              "      \n",
              "  <style>\n",
              "    .colab-df-container {\n",
              "      display:flex;\n",
              "      flex-wrap:wrap;\n",
              "      gap: 12px;\n",
              "    }\n",
              "\n",
              "    .colab-df-convert {\n",
              "      background-color: #E8F0FE;\n",
              "      border: none;\n",
              "      border-radius: 50%;\n",
              "      cursor: pointer;\n",
              "      display: none;\n",
              "      fill: #1967D2;\n",
              "      height: 32px;\n",
              "      padding: 0 0 0 0;\n",
              "      width: 32px;\n",
              "    }\n",
              "\n",
              "    .colab-df-convert:hover {\n",
              "      background-color: #E2EBFA;\n",
              "      box-shadow: 0px 1px 2px rgba(60, 64, 67, 0.3), 0px 1px 3px 1px rgba(60, 64, 67, 0.15);\n",
              "      fill: #174EA6;\n",
              "    }\n",
              "\n",
              "    [theme=dark] .colab-df-convert {\n",
              "      background-color: #3B4455;\n",
              "      fill: #D2E3FC;\n",
              "    }\n",
              "\n",
              "    [theme=dark] .colab-df-convert:hover {\n",
              "      background-color: #434B5C;\n",
              "      box-shadow: 0px 1px 3px 1px rgba(0, 0, 0, 0.15);\n",
              "      filter: drop-shadow(0px 1px 2px rgba(0, 0, 0, 0.3));\n",
              "      fill: #FFFFFF;\n",
              "    }\n",
              "  </style>\n",
              "\n",
              "      <script>\n",
              "        const buttonEl =\n",
              "          document.querySelector('#df-04e94ac5-07a2-4e4c-8ece-1234471d9977 button.colab-df-convert');\n",
              "        buttonEl.style.display =\n",
              "          google.colab.kernel.accessAllowed ? 'block' : 'none';\n",
              "\n",
              "        async function convertToInteractive(key) {\n",
              "          const element = document.querySelector('#df-04e94ac5-07a2-4e4c-8ece-1234471d9977');\n",
              "          const dataTable =\n",
              "            await google.colab.kernel.invokeFunction('convertToInteractive',\n",
              "                                                     [key], {});\n",
              "          if (!dataTable) return;\n",
              "\n",
              "          const docLinkHtml = 'Like what you see? Visit the ' +\n",
              "            '<a target=\"_blank\" href=https://colab.research.google.com/notebooks/data_table.ipynb>data table notebook</a>'\n",
              "            + ' to learn more about interactive tables.';\n",
              "          element.innerHTML = '';\n",
              "          dataTable['output_type'] = 'display_data';\n",
              "          await google.colab.output.renderOutput(dataTable, element);\n",
              "          const docLink = document.createElement('div');\n",
              "          docLink.innerHTML = docLinkHtml;\n",
              "          element.appendChild(docLink);\n",
              "        }\n",
              "      </script>\n",
              "    </div>\n",
              "  </div>\n",
              "  "
            ]
          },
          "metadata": {},
          "execution_count": 2
        }
      ],
      "source": [
        "# Write your code here\n",
        "\n",
        "# importing the necessary packages & the training dataset\n",
        "import pandas as pd\n",
        "dataset = pd.read_csv('stsa-train2.csv', usecols = ['review', 'text'])\n",
        "\n",
        "# display first few rows\n",
        "dataset.head()"
      ]
    },
    {
      "cell_type": "code",
      "execution_count": null,
      "metadata": {
        "colab": {
          "base_uri": "https://localhost:8080/",
          "height": 206
        },
        "id": "Co9k6TGZSzw6",
        "outputId": "e4cc6690-856b-4632-919a-e81a682b4a42"
      },
      "outputs": [
        {
          "output_type": "execute_result",
          "data": {
            "text/plain": [
              "   review                                               text\n",
              "0       0       no movement  no yuks  not much of anything .\n",
              "1       0  a gob of drivel so sickly sweet  even the eage...\n",
              "2       0  gangs of new york is an unapologetic mess  who...\n",
              "3       0  we never really feel involved with the story  ...\n",
              "4       1            this is one of polanski 's best films ."
            ],
            "text/html": [
              "\n",
              "  <div id=\"df-740d7f15-8f4c-4348-8c67-daf24d6d6ff3\">\n",
              "    <div class=\"colab-df-container\">\n",
              "      <div>\n",
              "<style scoped>\n",
              "    .dataframe tbody tr th:only-of-type {\n",
              "        vertical-align: middle;\n",
              "    }\n",
              "\n",
              "    .dataframe tbody tr th {\n",
              "        vertical-align: top;\n",
              "    }\n",
              "\n",
              "    .dataframe thead th {\n",
              "        text-align: right;\n",
              "    }\n",
              "</style>\n",
              "<table border=\"1\" class=\"dataframe\">\n",
              "  <thead>\n",
              "    <tr style=\"text-align: right;\">\n",
              "      <th></th>\n",
              "      <th>review</th>\n",
              "      <th>text</th>\n",
              "    </tr>\n",
              "  </thead>\n",
              "  <tbody>\n",
              "    <tr>\n",
              "      <th>0</th>\n",
              "      <td>0</td>\n",
              "      <td>no movement  no yuks  not much of anything .</td>\n",
              "    </tr>\n",
              "    <tr>\n",
              "      <th>1</th>\n",
              "      <td>0</td>\n",
              "      <td>a gob of drivel so sickly sweet  even the eage...</td>\n",
              "    </tr>\n",
              "    <tr>\n",
              "      <th>2</th>\n",
              "      <td>0</td>\n",
              "      <td>gangs of new york is an unapologetic mess  who...</td>\n",
              "    </tr>\n",
              "    <tr>\n",
              "      <th>3</th>\n",
              "      <td>0</td>\n",
              "      <td>we never really feel involved with the story  ...</td>\n",
              "    </tr>\n",
              "    <tr>\n",
              "      <th>4</th>\n",
              "      <td>1</td>\n",
              "      <td>this is one of polanski 's best films .</td>\n",
              "    </tr>\n",
              "  </tbody>\n",
              "</table>\n",
              "</div>\n",
              "      <button class=\"colab-df-convert\" onclick=\"convertToInteractive('df-740d7f15-8f4c-4348-8c67-daf24d6d6ff3')\"\n",
              "              title=\"Convert this dataframe to an interactive table.\"\n",
              "              style=\"display:none;\">\n",
              "        \n",
              "  <svg xmlns=\"http://www.w3.org/2000/svg\" height=\"24px\"viewBox=\"0 0 24 24\"\n",
              "       width=\"24px\">\n",
              "    <path d=\"M0 0h24v24H0V0z\" fill=\"none\"/>\n",
              "    <path d=\"M18.56 5.44l.94 2.06.94-2.06 2.06-.94-2.06-.94-.94-2.06-.94 2.06-2.06.94zm-11 1L8.5 8.5l.94-2.06 2.06-.94-2.06-.94L8.5 2.5l-.94 2.06-2.06.94zm10 10l.94 2.06.94-2.06 2.06-.94-2.06-.94-.94-2.06-.94 2.06-2.06.94z\"/><path d=\"M17.41 7.96l-1.37-1.37c-.4-.4-.92-.59-1.43-.59-.52 0-1.04.2-1.43.59L10.3 9.45l-7.72 7.72c-.78.78-.78 2.05 0 2.83L4 21.41c.39.39.9.59 1.41.59.51 0 1.02-.2 1.41-.59l7.78-7.78 2.81-2.81c.8-.78.8-2.07 0-2.86zM5.41 20L4 18.59l7.72-7.72 1.47 1.35L5.41 20z\"/>\n",
              "  </svg>\n",
              "      </button>\n",
              "      \n",
              "  <style>\n",
              "    .colab-df-container {\n",
              "      display:flex;\n",
              "      flex-wrap:wrap;\n",
              "      gap: 12px;\n",
              "    }\n",
              "\n",
              "    .colab-df-convert {\n",
              "      background-color: #E8F0FE;\n",
              "      border: none;\n",
              "      border-radius: 50%;\n",
              "      cursor: pointer;\n",
              "      display: none;\n",
              "      fill: #1967D2;\n",
              "      height: 32px;\n",
              "      padding: 0 0 0 0;\n",
              "      width: 32px;\n",
              "    }\n",
              "\n",
              "    .colab-df-convert:hover {\n",
              "      background-color: #E2EBFA;\n",
              "      box-shadow: 0px 1px 2px rgba(60, 64, 67, 0.3), 0px 1px 3px 1px rgba(60, 64, 67, 0.15);\n",
              "      fill: #174EA6;\n",
              "    }\n",
              "\n",
              "    [theme=dark] .colab-df-convert {\n",
              "      background-color: #3B4455;\n",
              "      fill: #D2E3FC;\n",
              "    }\n",
              "\n",
              "    [theme=dark] .colab-df-convert:hover {\n",
              "      background-color: #434B5C;\n",
              "      box-shadow: 0px 1px 3px 1px rgba(0, 0, 0, 0.15);\n",
              "      filter: drop-shadow(0px 1px 2px rgba(0, 0, 0, 0.3));\n",
              "      fill: #FFFFFF;\n",
              "    }\n",
              "  </style>\n",
              "\n",
              "      <script>\n",
              "        const buttonEl =\n",
              "          document.querySelector('#df-740d7f15-8f4c-4348-8c67-daf24d6d6ff3 button.colab-df-convert');\n",
              "        buttonEl.style.display =\n",
              "          google.colab.kernel.accessAllowed ? 'block' : 'none';\n",
              "\n",
              "        async function convertToInteractive(key) {\n",
              "          const element = document.querySelector('#df-740d7f15-8f4c-4348-8c67-daf24d6d6ff3');\n",
              "          const dataTable =\n",
              "            await google.colab.kernel.invokeFunction('convertToInteractive',\n",
              "                                                     [key], {});\n",
              "          if (!dataTable) return;\n",
              "\n",
              "          const docLinkHtml = 'Like what you see? Visit the ' +\n",
              "            '<a target=\"_blank\" href=https://colab.research.google.com/notebooks/data_table.ipynb>data table notebook</a>'\n",
              "            + ' to learn more about interactive tables.';\n",
              "          element.innerHTML = '';\n",
              "          dataTable['output_type'] = 'display_data';\n",
              "          await google.colab.output.renderOutput(dataTable, element);\n",
              "          const docLink = document.createElement('div');\n",
              "          docLink.innerHTML = docLinkHtml;\n",
              "          element.appendChild(docLink);\n",
              "        }\n",
              "      </script>\n",
              "    </div>\n",
              "  </div>\n",
              "  "
            ]
          },
          "metadata": {},
          "execution_count": 3
        }
      ],
      "source": [
        "# importing the necessary packages & the test dataset\n",
        "import pandas as pd\n",
        "dataset_test = pd.read_csv('stsa-test2.csv',usecols = ['review', 'text'])\n",
        "\n",
        "# display first few rows\n",
        "dataset_test.head()"
      ]
    },
    {
      "cell_type": "code",
      "execution_count": null,
      "metadata": {
        "id": "zo5A_-lgSzw6"
      },
      "outputs": [],
      "source": [
        "# importing packages necessary for further processing & data cleaning\n",
        "import numpy as np\n",
        "import pandas as pd\n",
        "from sklearn.metrics import confusion_matrix\n",
        "from sklearn.model_selection import train_test_split\n",
        "from sklearn.tree import DecisionTreeClassifier\n",
        "from sklearn.metrics import accuracy_score\n",
        "import matplotlib.pyplot as plt\n",
        "import seaborn as sns\n",
        "import re"
      ]
    },
    {
      "cell_type": "code",
      "execution_count": null,
      "metadata": {
        "id": "5CIzawN1Szw7"
      },
      "outputs": [],
      "source": [
        "# define function to clean the data\n",
        "import string\n",
        "def clean_text(text):\n",
        "    '''Make text lowercase, remove text in square brackets,remove links,remove punctuation\n",
        "    and remove words containing numbers.'''\n",
        "    Message = text.lower()\n",
        "    Message = re.sub('\\[.*?\\]', '', Message)\n",
        "    Message = re.sub('https?://\\S+|www\\.\\S+', '', Message)\n",
        "    Message = re.sub('<.*?>+', '', Message)\n",
        "    Message = re.sub('[%s]' % re.escape(string.punctuation), '', Message)\n",
        "    Message = re.sub('\\n', '', Message)\n",
        "    Message = re.sub('\\w*\\d\\w*', '', Message)\n",
        "    return Message\n",
        "\n",
        "dataset['cleanText'] = dataset['text'].apply(clean_text)"
      ]
    },
    {
      "cell_type": "code",
      "execution_count": null,
      "metadata": {
        "colab": {
          "base_uri": "https://localhost:8080/",
          "height": 206
        },
        "id": "aaFF4DjBSzw7",
        "outputId": "365d4e49-0f01-4451-f997-392cf6a9fb3c"
      },
      "outputs": [
        {
          "output_type": "execute_result",
          "data": {
            "text/plain": [
              "   review                                               text  \\\n",
              "0       1  a stirring , funny and finally transporting re...   \n",
              "1       0  apparently reassembled from the cutting-room f...   \n",
              "2       0  they presume their audience wo n't sit still f...   \n",
              "3       1  this is a visually stunning rumination on love...   \n",
              "4       1  jonathan parker 's bartleby should have been t...   \n",
              "\n",
              "                                           cleanText  \n",
              "0  a stirring  funny and finally transporting rei...  \n",
              "1  apparently reassembled from the cuttingroom fl...  \n",
              "2  they presume their audience wo nt sit still fo...  \n",
              "3  this is a visually stunning rumination on love...  \n",
              "4  jonathan parker s bartleby should have been th...  "
            ],
            "text/html": [
              "\n",
              "  <div id=\"df-469bc2d8-4988-4d40-ad89-830b71100533\">\n",
              "    <div class=\"colab-df-container\">\n",
              "      <div>\n",
              "<style scoped>\n",
              "    .dataframe tbody tr th:only-of-type {\n",
              "        vertical-align: middle;\n",
              "    }\n",
              "\n",
              "    .dataframe tbody tr th {\n",
              "        vertical-align: top;\n",
              "    }\n",
              "\n",
              "    .dataframe thead th {\n",
              "        text-align: right;\n",
              "    }\n",
              "</style>\n",
              "<table border=\"1\" class=\"dataframe\">\n",
              "  <thead>\n",
              "    <tr style=\"text-align: right;\">\n",
              "      <th></th>\n",
              "      <th>review</th>\n",
              "      <th>text</th>\n",
              "      <th>cleanText</th>\n",
              "    </tr>\n",
              "  </thead>\n",
              "  <tbody>\n",
              "    <tr>\n",
              "      <th>0</th>\n",
              "      <td>1</td>\n",
              "      <td>a stirring , funny and finally transporting re...</td>\n",
              "      <td>a stirring  funny and finally transporting rei...</td>\n",
              "    </tr>\n",
              "    <tr>\n",
              "      <th>1</th>\n",
              "      <td>0</td>\n",
              "      <td>apparently reassembled from the cutting-room f...</td>\n",
              "      <td>apparently reassembled from the cuttingroom fl...</td>\n",
              "    </tr>\n",
              "    <tr>\n",
              "      <th>2</th>\n",
              "      <td>0</td>\n",
              "      <td>they presume their audience wo n't sit still f...</td>\n",
              "      <td>they presume their audience wo nt sit still fo...</td>\n",
              "    </tr>\n",
              "    <tr>\n",
              "      <th>3</th>\n",
              "      <td>1</td>\n",
              "      <td>this is a visually stunning rumination on love...</td>\n",
              "      <td>this is a visually stunning rumination on love...</td>\n",
              "    </tr>\n",
              "    <tr>\n",
              "      <th>4</th>\n",
              "      <td>1</td>\n",
              "      <td>jonathan parker 's bartleby should have been t...</td>\n",
              "      <td>jonathan parker s bartleby should have been th...</td>\n",
              "    </tr>\n",
              "  </tbody>\n",
              "</table>\n",
              "</div>\n",
              "      <button class=\"colab-df-convert\" onclick=\"convertToInteractive('df-469bc2d8-4988-4d40-ad89-830b71100533')\"\n",
              "              title=\"Convert this dataframe to an interactive table.\"\n",
              "              style=\"display:none;\">\n",
              "        \n",
              "  <svg xmlns=\"http://www.w3.org/2000/svg\" height=\"24px\"viewBox=\"0 0 24 24\"\n",
              "       width=\"24px\">\n",
              "    <path d=\"M0 0h24v24H0V0z\" fill=\"none\"/>\n",
              "    <path d=\"M18.56 5.44l.94 2.06.94-2.06 2.06-.94-2.06-.94-.94-2.06-.94 2.06-2.06.94zm-11 1L8.5 8.5l.94-2.06 2.06-.94-2.06-.94L8.5 2.5l-.94 2.06-2.06.94zm10 10l.94 2.06.94-2.06 2.06-.94-2.06-.94-.94-2.06-.94 2.06-2.06.94z\"/><path d=\"M17.41 7.96l-1.37-1.37c-.4-.4-.92-.59-1.43-.59-.52 0-1.04.2-1.43.59L10.3 9.45l-7.72 7.72c-.78.78-.78 2.05 0 2.83L4 21.41c.39.39.9.59 1.41.59.51 0 1.02-.2 1.41-.59l7.78-7.78 2.81-2.81c.8-.78.8-2.07 0-2.86zM5.41 20L4 18.59l7.72-7.72 1.47 1.35L5.41 20z\"/>\n",
              "  </svg>\n",
              "      </button>\n",
              "      \n",
              "  <style>\n",
              "    .colab-df-container {\n",
              "      display:flex;\n",
              "      flex-wrap:wrap;\n",
              "      gap: 12px;\n",
              "    }\n",
              "\n",
              "    .colab-df-convert {\n",
              "      background-color: #E8F0FE;\n",
              "      border: none;\n",
              "      border-radius: 50%;\n",
              "      cursor: pointer;\n",
              "      display: none;\n",
              "      fill: #1967D2;\n",
              "      height: 32px;\n",
              "      padding: 0 0 0 0;\n",
              "      width: 32px;\n",
              "    }\n",
              "\n",
              "    .colab-df-convert:hover {\n",
              "      background-color: #E2EBFA;\n",
              "      box-shadow: 0px 1px 2px rgba(60, 64, 67, 0.3), 0px 1px 3px 1px rgba(60, 64, 67, 0.15);\n",
              "      fill: #174EA6;\n",
              "    }\n",
              "\n",
              "    [theme=dark] .colab-df-convert {\n",
              "      background-color: #3B4455;\n",
              "      fill: #D2E3FC;\n",
              "    }\n",
              "\n",
              "    [theme=dark] .colab-df-convert:hover {\n",
              "      background-color: #434B5C;\n",
              "      box-shadow: 0px 1px 3px 1px rgba(0, 0, 0, 0.15);\n",
              "      filter: drop-shadow(0px 1px 2px rgba(0, 0, 0, 0.3));\n",
              "      fill: #FFFFFF;\n",
              "    }\n",
              "  </style>\n",
              "\n",
              "      <script>\n",
              "        const buttonEl =\n",
              "          document.querySelector('#df-469bc2d8-4988-4d40-ad89-830b71100533 button.colab-df-convert');\n",
              "        buttonEl.style.display =\n",
              "          google.colab.kernel.accessAllowed ? 'block' : 'none';\n",
              "\n",
              "        async function convertToInteractive(key) {\n",
              "          const element = document.querySelector('#df-469bc2d8-4988-4d40-ad89-830b71100533');\n",
              "          const dataTable =\n",
              "            await google.colab.kernel.invokeFunction('convertToInteractive',\n",
              "                                                     [key], {});\n",
              "          if (!dataTable) return;\n",
              "\n",
              "          const docLinkHtml = 'Like what you see? Visit the ' +\n",
              "            '<a target=\"_blank\" href=https://colab.research.google.com/notebooks/data_table.ipynb>data table notebook</a>'\n",
              "            + ' to learn more about interactive tables.';\n",
              "          element.innerHTML = '';\n",
              "          dataTable['output_type'] = 'display_data';\n",
              "          await google.colab.output.renderOutput(dataTable, element);\n",
              "          const docLink = document.createElement('div');\n",
              "          docLink.innerHTML = docLinkHtml;\n",
              "          element.appendChild(docLink);\n",
              "        }\n",
              "      </script>\n",
              "    </div>\n",
              "  </div>\n",
              "  "
            ]
          },
          "metadata": {},
          "execution_count": 6
        }
      ],
      "source": [
        "# display first few rows after data cleaning\n",
        "dataset.head()"
      ]
    },
    {
      "cell_type": "code",
      "execution_count": null,
      "metadata": {
        "id": "ivaRA6UUSzw8"
      },
      "outputs": [],
      "source": [
        "import string\n",
        "def clean_text(text):\n",
        "    '''Make text lowercase, remove text in square brackets,remove links,remove punctuation\n",
        "    and remove words containing numbers.'''\n",
        "    Message = text.lower()\n",
        "    Message = re.sub('\\[.*?\\]', '', Message)\n",
        "    Message = re.sub('https?://\\S+|www\\.\\S+', '', Message)\n",
        "    Message = re.sub('<.*?>+', '', Message)\n",
        "    Message = re.sub('[%s]' % re.escape(string.punctuation), '', Message)\n",
        "    Message = re.sub('\\n', '', Message)\n",
        "    Message = re.sub('\\w*\\d\\w*', '', Message)\n",
        "    return Message\n",
        "\n",
        "dataset_test['cleanText'] = dataset_test['text'].apply(clean_text)"
      ]
    },
    {
      "cell_type": "code",
      "execution_count": null,
      "metadata": {
        "colab": {
          "base_uri": "https://localhost:8080/",
          "height": 206
        },
        "id": "orM2n63wSzw8",
        "outputId": "a9e4029c-f137-4cd2-e803-930f71594bf2"
      },
      "outputs": [
        {
          "output_type": "execute_result",
          "data": {
            "text/plain": [
              "   review                                               text  \\\n",
              "0       0       no movement  no yuks  not much of anything .   \n",
              "1       0  a gob of drivel so sickly sweet  even the eage...   \n",
              "2       0  gangs of new york is an unapologetic mess  who...   \n",
              "3       0  we never really feel involved with the story  ...   \n",
              "4       1            this is one of polanski 's best films .   \n",
              "\n",
              "                                           cleanText  \n",
              "0        no movement  no yuks  not much of anything   \n",
              "1  a gob of drivel so sickly sweet  even the eage...  \n",
              "2  gangs of new york is an unapologetic mess  who...  \n",
              "3  we never really feel involved with the story  ...  \n",
              "4              this is one of polanski s best films   "
            ],
            "text/html": [
              "\n",
              "  <div id=\"df-d0f29273-847e-4084-a9ab-be8e657617c0\">\n",
              "    <div class=\"colab-df-container\">\n",
              "      <div>\n",
              "<style scoped>\n",
              "    .dataframe tbody tr th:only-of-type {\n",
              "        vertical-align: middle;\n",
              "    }\n",
              "\n",
              "    .dataframe tbody tr th {\n",
              "        vertical-align: top;\n",
              "    }\n",
              "\n",
              "    .dataframe thead th {\n",
              "        text-align: right;\n",
              "    }\n",
              "</style>\n",
              "<table border=\"1\" class=\"dataframe\">\n",
              "  <thead>\n",
              "    <tr style=\"text-align: right;\">\n",
              "      <th></th>\n",
              "      <th>review</th>\n",
              "      <th>text</th>\n",
              "      <th>cleanText</th>\n",
              "    </tr>\n",
              "  </thead>\n",
              "  <tbody>\n",
              "    <tr>\n",
              "      <th>0</th>\n",
              "      <td>0</td>\n",
              "      <td>no movement  no yuks  not much of anything .</td>\n",
              "      <td>no movement  no yuks  not much of anything</td>\n",
              "    </tr>\n",
              "    <tr>\n",
              "      <th>1</th>\n",
              "      <td>0</td>\n",
              "      <td>a gob of drivel so sickly sweet  even the eage...</td>\n",
              "      <td>a gob of drivel so sickly sweet  even the eage...</td>\n",
              "    </tr>\n",
              "    <tr>\n",
              "      <th>2</th>\n",
              "      <td>0</td>\n",
              "      <td>gangs of new york is an unapologetic mess  who...</td>\n",
              "      <td>gangs of new york is an unapologetic mess  who...</td>\n",
              "    </tr>\n",
              "    <tr>\n",
              "      <th>3</th>\n",
              "      <td>0</td>\n",
              "      <td>we never really feel involved with the story  ...</td>\n",
              "      <td>we never really feel involved with the story  ...</td>\n",
              "    </tr>\n",
              "    <tr>\n",
              "      <th>4</th>\n",
              "      <td>1</td>\n",
              "      <td>this is one of polanski 's best films .</td>\n",
              "      <td>this is one of polanski s best films</td>\n",
              "    </tr>\n",
              "  </tbody>\n",
              "</table>\n",
              "</div>\n",
              "      <button class=\"colab-df-convert\" onclick=\"convertToInteractive('df-d0f29273-847e-4084-a9ab-be8e657617c0')\"\n",
              "              title=\"Convert this dataframe to an interactive table.\"\n",
              "              style=\"display:none;\">\n",
              "        \n",
              "  <svg xmlns=\"http://www.w3.org/2000/svg\" height=\"24px\"viewBox=\"0 0 24 24\"\n",
              "       width=\"24px\">\n",
              "    <path d=\"M0 0h24v24H0V0z\" fill=\"none\"/>\n",
              "    <path d=\"M18.56 5.44l.94 2.06.94-2.06 2.06-.94-2.06-.94-.94-2.06-.94 2.06-2.06.94zm-11 1L8.5 8.5l.94-2.06 2.06-.94-2.06-.94L8.5 2.5l-.94 2.06-2.06.94zm10 10l.94 2.06.94-2.06 2.06-.94-2.06-.94-.94-2.06-.94 2.06-2.06.94z\"/><path d=\"M17.41 7.96l-1.37-1.37c-.4-.4-.92-.59-1.43-.59-.52 0-1.04.2-1.43.59L10.3 9.45l-7.72 7.72c-.78.78-.78 2.05 0 2.83L4 21.41c.39.39.9.59 1.41.59.51 0 1.02-.2 1.41-.59l7.78-7.78 2.81-2.81c.8-.78.8-2.07 0-2.86zM5.41 20L4 18.59l7.72-7.72 1.47 1.35L5.41 20z\"/>\n",
              "  </svg>\n",
              "      </button>\n",
              "      \n",
              "  <style>\n",
              "    .colab-df-container {\n",
              "      display:flex;\n",
              "      flex-wrap:wrap;\n",
              "      gap: 12px;\n",
              "    }\n",
              "\n",
              "    .colab-df-convert {\n",
              "      background-color: #E8F0FE;\n",
              "      border: none;\n",
              "      border-radius: 50%;\n",
              "      cursor: pointer;\n",
              "      display: none;\n",
              "      fill: #1967D2;\n",
              "      height: 32px;\n",
              "      padding: 0 0 0 0;\n",
              "      width: 32px;\n",
              "    }\n",
              "\n",
              "    .colab-df-convert:hover {\n",
              "      background-color: #E2EBFA;\n",
              "      box-shadow: 0px 1px 2px rgba(60, 64, 67, 0.3), 0px 1px 3px 1px rgba(60, 64, 67, 0.15);\n",
              "      fill: #174EA6;\n",
              "    }\n",
              "\n",
              "    [theme=dark] .colab-df-convert {\n",
              "      background-color: #3B4455;\n",
              "      fill: #D2E3FC;\n",
              "    }\n",
              "\n",
              "    [theme=dark] .colab-df-convert:hover {\n",
              "      background-color: #434B5C;\n",
              "      box-shadow: 0px 1px 3px 1px rgba(0, 0, 0, 0.15);\n",
              "      filter: drop-shadow(0px 1px 2px rgba(0, 0, 0, 0.3));\n",
              "      fill: #FFFFFF;\n",
              "    }\n",
              "  </style>\n",
              "\n",
              "      <script>\n",
              "        const buttonEl =\n",
              "          document.querySelector('#df-d0f29273-847e-4084-a9ab-be8e657617c0 button.colab-df-convert');\n",
              "        buttonEl.style.display =\n",
              "          google.colab.kernel.accessAllowed ? 'block' : 'none';\n",
              "\n",
              "        async function convertToInteractive(key) {\n",
              "          const element = document.querySelector('#df-d0f29273-847e-4084-a9ab-be8e657617c0');\n",
              "          const dataTable =\n",
              "            await google.colab.kernel.invokeFunction('convertToInteractive',\n",
              "                                                     [key], {});\n",
              "          if (!dataTable) return;\n",
              "\n",
              "          const docLinkHtml = 'Like what you see? Visit the ' +\n",
              "            '<a target=\"_blank\" href=https://colab.research.google.com/notebooks/data_table.ipynb>data table notebook</a>'\n",
              "            + ' to learn more about interactive tables.';\n",
              "          element.innerHTML = '';\n",
              "          dataTable['output_type'] = 'display_data';\n",
              "          await google.colab.output.renderOutput(dataTable, element);\n",
              "          const docLink = document.createElement('div');\n",
              "          docLink.innerHTML = docLinkHtml;\n",
              "          element.appendChild(docLink);\n",
              "        }\n",
              "      </script>\n",
              "    </div>\n",
              "  </div>\n",
              "  "
            ]
          },
          "metadata": {},
          "execution_count": 8
        }
      ],
      "source": [
        "dataset_test.head()"
      ]
    },
    {
      "cell_type": "code",
      "execution_count": null,
      "metadata": {
        "id": "qp98RFnzSzw9"
      },
      "outputs": [],
      "source": [
        "# define dependent & independent variables X & Y\n",
        "x = dataset[\"cleanText\"]\n",
        "y = dataset[\"review\"]"
      ]
    },
    {
      "cell_type": "code",
      "execution_count": null,
      "metadata": {
        "id": "oZqpY6rUSzw9"
      },
      "outputs": [],
      "source": [
        "# importing necessary libraries\n",
        "from sklearn.model_selection import train_test_split\n",
        "\n",
        "# divide data into training &  test (validation) with 80%-20% split\n",
        "x_train, x_test, y_train, y_test = train_test_split(x, y, test_size=0.2)"
      ]
    },
    {
      "cell_type": "code",
      "execution_count": null,
      "metadata": {
        "id": "hip48MUJSzw9"
      },
      "outputs": [],
      "source": [
        "# define the cross_validation function, for no. of folds = 10\n",
        "from sklearn.model_selection import cross_validate\n",
        "def cross_validation(model, _X, _y, _cv=10):\n",
        "    _scoring = ['accuracy', 'precision', 'recall', 'f1']\n",
        "    results = cross_validate(estimator=model,\n",
        "                               X=_X,\n",
        "                               y=_y,\n",
        "                               cv=_cv,\n",
        "                               scoring=_scoring,\n",
        "                               return_train_score=True)"
      ]
    },
    {
      "cell_type": "code",
      "execution_count": null,
      "metadata": {
        "id": "QzStBr7XSzw-"
      },
      "outputs": [],
      "source": [
        "# importing required libraries for building, running & evaluation models\n",
        "import pandas as pd\n",
        "import matplotlib.pyplot as plt\n",
        "import warnings\n",
        "warnings.filterwarnings(\"ignore\")\n",
        "from sklearn.metrics import precision_score, recall_score, f1_score, accuracy_score"
      ]
    },
    {
      "cell_type": "code",
      "execution_count": null,
      "metadata": {
        "id": "Kj30mQROSzw_"
      },
      "outputs": [],
      "source": [
        "# perform TFIDF vectorization\n",
        "from sklearn.feature_extraction.text import TfidfVectorizer \n",
        "tfidf_vectorizer = TfidfVectorizer(lowercase = False, analyzer='word')\n",
        "train_tfidf = tfidf_vectorizer.fit_transform(dataset[\"cleanText\"]).toarray()\n",
        "test_tfidf = tfidf_vectorizer.transform(dataset_test[\"cleanText\"]).toarray()"
      ]
    },
    {
      "cell_type": "code",
      "execution_count": null,
      "metadata": {
        "id": "w_tCf9b-Szw_"
      },
      "outputs": [],
      "source": [
        "# define the test data - x & y\n",
        "x_test = test_tfidf\n",
        "y_test = dataset_test[\"review\"]"
      ]
    },
    {
      "cell_type": "code",
      "execution_count": null,
      "metadata": {
        "id": "RyFxnCRmSzxA"
      },
      "outputs": [],
      "source": [
        "# partitioning dataset into training & validation\n",
        "from sklearn.model_selection import train_test_split\n",
        "x_train, x_valid, y_train, y_valid = train_test_split(train_tfidf,dataset[\"review\"],test_size = 0.2, random_state = 202)"
      ]
    },
    {
      "cell_type": "markdown",
      "source": [
        "Naive Bayes"
      ],
      "metadata": {
        "id": "kz-rSKzztea9"
      }
    },
    {
      "cell_type": "code",
      "execution_count": null,
      "metadata": {
        "id": "R68svAwhSzxA"
      },
      "outputs": [],
      "source": [
        "# imports for Multinomial NB\n",
        "from sklearn.naive_bayes import MultinomialNB\n",
        "from sklearn.metrics import precision_score, recall_score, f1_score, accuracy_score\n",
        "from sklearn.metrics import classification_report\n",
        "from sklearn.model_selection import cross_val_score"
      ]
    },
    {
      "cell_type": "code",
      "execution_count": null,
      "metadata": {
        "id": "7z6c_bPhSzxA"
      },
      "outputs": [],
      "source": [
        "# Multinomial NB\n",
        "# create & fit the model:\n",
        "cl_NB = MultinomialNB()\n",
        "model_NB = cl_NB.fit(x_train, y_train) \n",
        "pr_NB = cl_NB.predict(x_valid) "
      ]
    },
    {
      "cell_type": "code",
      "execution_count": null,
      "metadata": {
        "id": "_IeISMqkSzxB",
        "outputId": "9d2a3d84-c863-4e15-ad86-cd36076595b8"
      },
      "outputs": [
        {
          "name": "stdout",
          "output_type": "stream",
          "text": [
            "Accuracy =  80 %\n"
          ]
        }
      ],
      "source": [
        "# printing the evaluation measures: accuracy\n",
        "print (\"Accuracy = \", round(accuracy_score(y_valid, pr_NB)*100),\"%\")"
      ]
    },
    {
      "cell_type": "code",
      "execution_count": null,
      "metadata": {
        "id": "m6bc_vUjSzxB",
        "outputId": "98efe7b5-3505-488e-bc12-3c9d61522c30"
      },
      "outputs": [
        {
          "name": "stdout",
          "output_type": "stream",
          "text": [
            "Percision =  82 %\n"
          ]
        }
      ],
      "source": [
        "# printing the evaluation measures: precision\n",
        "print (\"Percision = \", round(precision_score(y_valid, pr_NB, pos_label=0)*100),\"%\")"
      ]
    },
    {
      "cell_type": "code",
      "execution_count": null,
      "metadata": {
        "id": "6WgP3SAsSzxB",
        "outputId": "175d17ee-fe15-40db-d1b2-a556580afcca"
      },
      "outputs": [
        {
          "name": "stdout",
          "output_type": "stream",
          "text": [
            "Recall =  74 %\n"
          ]
        }
      ],
      "source": [
        "# printing the evaluation measures: recall\n",
        "print (\"Recall = \", round(recall_score(y_valid, pr_NB, pos_label=0)*100),\"%\")"
      ]
    },
    {
      "cell_type": "code",
      "execution_count": null,
      "metadata": {
        "id": "epA94qRiSzxC",
        "outputId": "764ad588-9ca0-4302-b89f-4b9d21f032df"
      },
      "outputs": [
        {
          "name": "stdout",
          "output_type": "stream",
          "text": [
            "F1 Score =  78 %\n"
          ]
        }
      ],
      "source": [
        "# printing the evaluation measures: F1 score\n",
        "print (\"F1 Score = \", round(f1_score(y_valid, pr_NB, pos_label=0)*100),\"%\")"
      ]
    },
    {
      "cell_type": "code",
      "execution_count": null,
      "metadata": {
        "id": "bx-tq5UoSzxC",
        "outputId": "616a7557-ffee-4da5-af15-e33a6faf7cbf"
      },
      "outputs": [
        {
          "name": "stdout",
          "output_type": "stream",
          "text": [
            "Classification Report - \n",
            "              precision    recall  f1-score   support\n",
            "\n",
            "           0       0.82      0.74      0.78       667\n",
            "           1       0.78      0.85      0.81       717\n",
            "\n",
            "    accuracy                           0.80      1384\n",
            "   macro avg       0.80      0.80      0.80      1384\n",
            "weighted avg       0.80      0.80      0.80      1384\n",
            "\n"
          ]
        }
      ],
      "source": [
        "# classification report\n",
        "print(\"Classification Report - \")\n",
        "cr_NB = classification_report(y_valid, pr_NB)\n",
        "print(cr_NB)"
      ]
    },
    {
      "cell_type": "code",
      "execution_count": null,
      "metadata": {
        "id": "M4Ai3shkSzxC",
        "outputId": "c9eed8ed-e482-41a8-e91e-04bef7ea60e7"
      },
      "outputs": [
        {
          "name": "stdout",
          "output_type": "stream",
          "text": [
            "10-fold cross-val score for Naive Bayes is -\n",
            "78%\n"
          ]
        }
      ],
      "source": [
        "# printing the 10-fold cross validation score\n",
        "print(\"10-fold cross-val score for Naive Bayes is -\")\n",
        "ac_NB = cross_val_score(estimator = cl_NB, X = x_train, y = y_train, cv = 10)\n",
        "print(f\"{round(ac_NB.mean()*100)}%\")"
      ]
    },
    {
      "cell_type": "code",
      "execution_count": null,
      "metadata": {
        "id": "ahXNrMEYSzxD"
      },
      "outputs": [],
      "source": [
        "pr_NB2 = cl_NB.predict(x_test) "
      ]
    },
    {
      "cell_type": "code",
      "execution_count": null,
      "metadata": {
        "id": "clv2FYZ2SzxD",
        "outputId": "925b4b3e-5689-433b-897b-098f852158d1"
      },
      "outputs": [
        {
          "name": "stdout",
          "output_type": "stream",
          "text": [
            "Accuracy =  81 %\n"
          ]
        }
      ],
      "source": [
        "# printing the evaluation measures: accuracy\n",
        "print (\"Accuracy = \", round(accuracy_score(y_test, pr_NB2)*100),\"%\")"
      ]
    },
    {
      "cell_type": "code",
      "execution_count": null,
      "metadata": {
        "id": "hpQNgp70SzxD",
        "outputId": "321e2fb4-31e3-4e7d-9ac1-5c8f5af34d72"
      },
      "outputs": [
        {
          "name": "stdout",
          "output_type": "stream",
          "text": [
            "Percision =  86 %\n"
          ]
        }
      ],
      "source": [
        "# printing the evaluation measures: precision\n",
        "print (\"Percision = \", round(precision_score(y_test, pr_NB2, pos_label=0)*100),\"%\")"
      ]
    },
    {
      "cell_type": "code",
      "execution_count": null,
      "metadata": {
        "id": "J70wjohNSzxD",
        "outputId": "37878d25-72ad-4797-be14-448e97ff9f1c"
      },
      "outputs": [
        {
          "name": "stdout",
          "output_type": "stream",
          "text": [
            "Recall =  74 %\n"
          ]
        }
      ],
      "source": [
        "# printing the evaluation measures: recall\n",
        "print (\"Recall = \", round(recall_score(y_test, pr_NB2, pos_label=0)*100),\"%\")"
      ]
    },
    {
      "cell_type": "code",
      "execution_count": null,
      "metadata": {
        "id": "wQGafnANSzxD",
        "outputId": "8cf17846-621f-4687-cff0-9940ad830e25"
      },
      "outputs": [
        {
          "name": "stdout",
          "output_type": "stream",
          "text": [
            "F1 Score =  79 %\n"
          ]
        }
      ],
      "source": [
        "# printing the evaluation measures: F1 score\n",
        "print (\"F1 Score = \", round(f1_score(y_test, pr_NB2, pos_label=0)*100),\"%\")"
      ]
    },
    {
      "cell_type": "code",
      "execution_count": null,
      "metadata": {
        "id": "zhpiEoiqSzxE",
        "outputId": "b6c0ba75-7894-4b8a-a770-ab6895c90858"
      },
      "outputs": [
        {
          "name": "stdout",
          "output_type": "stream",
          "text": [
            "Classification Report - \n",
            "              precision    recall  f1-score   support\n",
            "\n",
            "           0       0.86      0.74      0.79       912\n",
            "           1       0.77      0.88      0.82       909\n",
            "\n",
            "    accuracy                           0.81      1821\n",
            "   macro avg       0.81      0.81      0.81      1821\n",
            "weighted avg       0.81      0.81      0.81      1821\n",
            "\n"
          ]
        }
      ],
      "source": [
        "# printing the classification report\n",
        "print(\"Classification Report - \")\n",
        "cr_NB2 = classification_report(y_test, pr_NB2)\n",
        "print(cr_NB2)"
      ]
    },
    {
      "cell_type": "code",
      "execution_count": null,
      "metadata": {
        "id": "bZsX9Vw8SzxE",
        "outputId": "dd7e6c2d-3767-46bb-e5c0-563921ddebee"
      },
      "outputs": [
        {
          "name": "stdout",
          "output_type": "stream",
          "text": [
            "10-fold cross-val score for Naive Bayes is -\n",
            "74%\n"
          ]
        }
      ],
      "source": [
        "# printing the 10-fold cross validation score\n",
        "print(\"10-fold cross-val score for Naive Bayes is -\")\n",
        "ac_NB2 = cross_val_score(estimator = cl_NB, X = x_test, y = y_test, cv = 10)\n",
        "print(f\"{round(ac_NB2.mean()*100)}%\")"
      ]
    },
    {
      "cell_type": "markdown",
      "source": [
        "SVM"
      ],
      "metadata": {
        "id": "jvRCwgfPtmqC"
      }
    },
    {
      "cell_type": "code",
      "execution_count": null,
      "metadata": {
        "id": "nBcKG5IzSzxE"
      },
      "outputs": [],
      "source": [
        "# imports for SVM\n",
        "from sklearn import svm\n",
        "from sklearn.metrics import classification_report\n",
        "from sklearn.model_selection import cross_val_score"
      ]
    },
    {
      "cell_type": "code",
      "source": [
        "# SVM\n",
        "# create & fit the model:\n",
        "cl_SVM = svm.SVC()\n",
        "model_SVM = cl_SVM.fit(x_train, y_train) \n",
        "pr_SVM = cl_SVM.predict(x_valid) "
      ],
      "metadata": {
        "id": "9RdN6bA3rpxK"
      },
      "execution_count": null,
      "outputs": []
    },
    {
      "cell_type": "code",
      "execution_count": null,
      "metadata": {
        "id": "cEvnU36nSzxE",
        "outputId": "0779bd0b-3dc3-45df-a84d-e1df9cf92881"
      },
      "outputs": [
        {
          "name": "stdout",
          "output_type": "stream",
          "text": [
            "Classification Report - \n",
            "              precision    recall  f1-score   support\n",
            "\n",
            "           0       0.79      0.76      0.78       667\n",
            "           1       0.79      0.82      0.80       717\n",
            "\n",
            "    accuracy                           0.79      1384\n",
            "   macro avg       0.79      0.79      0.79      1384\n",
            "weighted avg       0.79      0.79      0.79      1384\n",
            "\n"
          ]
        }
      ],
      "source": [
        "# printing the classification report\n",
        "print(\"Classification Report - \")\n",
        "cr_SVM = classification_report(y_valid, pr_SVM)\n",
        "print(cr_SVM)"
      ]
    },
    {
      "cell_type": "code",
      "execution_count": null,
      "metadata": {
        "id": "4PTkxIWNSzxF",
        "outputId": "679a196a-236c-44f3-c047-53dd62cce324"
      },
      "outputs": [
        {
          "name": "stdout",
          "output_type": "stream",
          "text": [
            "10-fold cross-val score for SVM is -\n"
          ]
        }
      ],
      "source": [
        "print(\"10-fold cross-val score for SVM is -\")\n",
        "ac_SVM = cross_val_score(estimator = cl_SVM, X = x_train, y = y_train, cv = 10)\n",
        "print(f\"{round(ac_SVM.mean()*100)}%\")"
      ]
    },
    {
      "cell_type": "code",
      "execution_count": null,
      "metadata": {
        "id": "PIzgoGRWSzxF"
      },
      "outputs": [],
      "source": [
        "pr_SVM2 = cl_SVM.predict(x_test)"
      ]
    },
    {
      "cell_type": "code",
      "execution_count": null,
      "metadata": {
        "id": "XF80NN0gSzxF"
      },
      "outputs": [],
      "source": [
        "# printing the evaluation measures: accuracy\n",
        "print (\"Accuracy = \", round(accuracy_score(y_test, pr_SVM2)*100),\"%\")"
      ]
    },
    {
      "cell_type": "code",
      "execution_count": null,
      "metadata": {
        "id": "ljPJg-xYSzxF"
      },
      "outputs": [],
      "source": [
        "# printing the evaluation measures: precision\n",
        "print (\"Percision = \", round(precision_score(y_test, pr_SVM2, pos_label=0)*100),\"%\")"
      ]
    },
    {
      "cell_type": "code",
      "execution_count": null,
      "metadata": {
        "id": "LK7PN1S5SzxF"
      },
      "outputs": [],
      "source": [
        "# printing the evaluation measures: recall\n",
        "print (\"Recall = \", round(recall_score(y_test, pr_SVM2, pos_label=0)*100),\"%\")"
      ]
    },
    {
      "cell_type": "code",
      "execution_count": null,
      "metadata": {
        "id": "J7kEqzdaSzxF"
      },
      "outputs": [],
      "source": [
        "# printing the evaluation measures: F1 score\n",
        "print (\"F1 Score = \", round(f1_score(y_test, pr_SVM2, pos_label=0)*100),\"%\")"
      ]
    },
    {
      "cell_type": "code",
      "execution_count": null,
      "metadata": {
        "id": "bSnLwnbzSzxG"
      },
      "outputs": [],
      "source": [
        "# printing the classification report\n",
        "print(\"Classification Report - \")\n",
        "cr_SVM2 = classification_report(y_test, pr_SVM2)\n",
        "print(cr_SVM2)"
      ]
    },
    {
      "cell_type": "code",
      "execution_count": null,
      "metadata": {
        "id": "wMMPNKK-SzxG"
      },
      "outputs": [],
      "source": [
        "# printing the 10-fold cross-val score\n",
        "print(\"10-fold cross-val score for SVM is -\")\n",
        "ac_SVM2 = cross_val_score(estimator = cl_SVM, X = x_test, y = y_test, cv = 10)\n",
        "print(f\"{round(ac_SVM2.mean()*100)}%\")"
      ]
    },
    {
      "cell_type": "markdown",
      "source": [
        "KNN"
      ],
      "metadata": {
        "id": "HwREKzpatpin"
      }
    },
    {
      "cell_type": "code",
      "execution_count": null,
      "metadata": {
        "id": "5FFThSGDSzxG"
      },
      "outputs": [],
      "source": [
        "# imports for KNN\n",
        "from sklearn.neighbors import KNeighborsClassifier\n",
        "from sklearn.metrics import classification_report\n",
        "from sklearn.model_selection import cross_val_score"
      ]
    },
    {
      "cell_type": "code",
      "execution_count": null,
      "metadata": {
        "id": "A5vBkxsHSzxG"
      },
      "outputs": [],
      "source": [
        "# KNN\n",
        "cl_KNN = KNeighborsClassifier(n_neighbors = 4)\n",
        "model_knn = cl_KNN.fit(x_train, y_train) \n",
        "pr_KNN = cl_KNN.predict(x_valid)"
      ]
    },
    {
      "cell_type": "code",
      "execution_count": null,
      "metadata": {
        "colab": {
          "base_uri": "https://localhost:8080/"
        },
        "id": "3077fktVSzxG",
        "outputId": "ae4fd09d-b7fd-4c08-aa98-3133f68bc60c"
      },
      "outputs": [
        {
          "output_type": "stream",
          "name": "stdout",
          "text": [
            "Accuracy =  72 %\n"
          ]
        }
      ],
      "source": [
        "# printing the evaluation measures: accuracy\n",
        "print (\"Accuracy = \", round(accuracy_score(y_valid, pr_KNN)*100),\"%\")"
      ]
    },
    {
      "cell_type": "code",
      "source": [
        "# printing the evaluation measures: precision\n",
        "print (\"Percision = \", round(precision_score(y_valid, pr_KNN, pos_label=0)*100),\"%\")\n"
      ],
      "metadata": {
        "colab": {
          "base_uri": "https://localhost:8080/"
        },
        "id": "NyNyXAYMolWS",
        "outputId": "8af8e7c0-5fdb-499e-8e0e-a5eedff15cff"
      },
      "execution_count": null,
      "outputs": [
        {
          "output_type": "stream",
          "name": "stdout",
          "text": [
            "Percision =  67 %\n"
          ]
        }
      ]
    },
    {
      "cell_type": "code",
      "source": [
        "# printing the evaluation measures: recall\n",
        "print (\"Recall = \", round(recall_score(y_valid, pr_KNN, pos_label=0)*100),\"%\")\n"
      ],
      "metadata": {
        "colab": {
          "base_uri": "https://localhost:8080/"
        },
        "id": "2Xl4cfBuold0",
        "outputId": "393c8d84-048f-48d0-b0a8-fd6c275b174d"
      },
      "execution_count": null,
      "outputs": [
        {
          "output_type": "stream",
          "name": "stdout",
          "text": [
            "Recall =  82 %\n"
          ]
        }
      ]
    },
    {
      "cell_type": "code",
      "source": [
        "# printing the evaluation measures: F1 score\n",
        "print (\"F1 Score = \", round(f1_score(y_valid, pr_KNN, pos_label=0)*100),\"%\")"
      ],
      "metadata": {
        "colab": {
          "base_uri": "https://localhost:8080/"
        },
        "id": "gd6hptNyollY",
        "outputId": "f93ffaf0-a704-4a65-a7c6-fbed7c74d892"
      },
      "execution_count": null,
      "outputs": [
        {
          "output_type": "stream",
          "name": "stdout",
          "text": [
            "F1 Score =  74 %\n"
          ]
        }
      ]
    },
    {
      "cell_type": "code",
      "execution_count": null,
      "metadata": {
        "colab": {
          "base_uri": "https://localhost:8080/"
        },
        "id": "t9BoK4JBSzxH",
        "outputId": "e8d0d723-dd2e-46fc-92d3-86663b6188a3"
      },
      "outputs": [
        {
          "output_type": "stream",
          "name": "stdout",
          "text": [
            "Classification Report -\n",
            "              precision    recall  f1-score   support\n",
            "\n",
            "           0       0.67      0.82      0.74       667\n",
            "           1       0.79      0.62      0.69       717\n",
            "\n",
            "    accuracy                           0.72      1384\n",
            "   macro avg       0.73      0.72      0.72      1384\n",
            "weighted avg       0.73      0.72      0.72      1384\n",
            "\n"
          ]
        }
      ],
      "source": [
        "# Print the classification report\n",
        "print(\"Classification Report -\")\n",
        "cr_KNN = classification_report(y_valid, pr_KNN)\n",
        "print(cr_KNN)"
      ]
    },
    {
      "cell_type": "code",
      "execution_count": null,
      "metadata": {
        "colab": {
          "base_uri": "https://localhost:8080/"
        },
        "id": "V4CBtlPNSzxH",
        "outputId": "9865d00d-066c-4809-e8fa-fee807597846"
      },
      "outputs": [
        {
          "output_type": "stream",
          "name": "stdout",
          "text": [
            "10-fold cross-val score for KNN is -\n",
            "69%\n"
          ]
        }
      ],
      "source": [
        "# perform the 10 fold cross validation\n",
        "print(\"10-fold cross-val score for KNN is -\")\n",
        "ac_KNN = cross_val_score(estimator = cl_KNN, X = x_train, y = y_train, cv = 10)\n",
        "print(f\"{round(ac_KNN.mean()*100)}%\")"
      ]
    },
    {
      "cell_type": "code",
      "execution_count": null,
      "metadata": {
        "id": "p_n5pXD7SzxH"
      },
      "outputs": [],
      "source": [
        "# calculate the accuracy\n",
        "pr_KNN2 = cl_KNN.predict(x_test) "
      ]
    },
    {
      "cell_type": "code",
      "source": [
        "# printing the evaluation measures: accuracy\n",
        "print (\"Accuracy = \", round(accuracy_score(y_test, pr_KNN2)*100),\"%\")"
      ],
      "metadata": {
        "colab": {
          "base_uri": "https://localhost:8080/"
        },
        "id": "L-onGLYKpQkf",
        "outputId": "75d1c135-6476-431b-aeb8-cac4317a9649"
      },
      "execution_count": null,
      "outputs": [
        {
          "output_type": "stream",
          "name": "stdout",
          "text": [
            "Accuracy =  71 %\n"
          ]
        }
      ]
    },
    {
      "cell_type": "code",
      "source": [
        "# printing the evaluation measures: Precision\n",
        "print (\"Precision = \", round(precision_score(y_test, pr_KNN2, pos_label=0)*100),\"%\")"
      ],
      "metadata": {
        "colab": {
          "base_uri": "https://localhost:8080/"
        },
        "id": "e_8mfnORpYWD",
        "outputId": "b6f8fec9-bf5a-45c1-cd87-5e7328cc81d5"
      },
      "execution_count": null,
      "outputs": [
        {
          "output_type": "stream",
          "name": "stdout",
          "text": [
            "Precision =  68 %\n"
          ]
        }
      ]
    },
    {
      "cell_type": "code",
      "source": [
        "# printing the evaluation measures: recall\n",
        "print (\"Recall = \", round(recall_score(y_test, pr_KNN2, pos_label=0)*100),\"%\")"
      ],
      "metadata": {
        "colab": {
          "base_uri": "https://localhost:8080/"
        },
        "id": "vcXR46MkpYdD",
        "outputId": "3dd60d4c-8051-4a26-c804-258e34622e4d"
      },
      "execution_count": null,
      "outputs": [
        {
          "output_type": "stream",
          "name": "stdout",
          "text": [
            "Recall =  80 %\n"
          ]
        }
      ]
    },
    {
      "cell_type": "code",
      "source": [
        "# printing the evaluation measures: F1 score\n",
        "print (\"F1 Score = \", round(f1_score(y_test, pr_KNN2, pos_label=0)*100),\"%\")"
      ],
      "metadata": {
        "colab": {
          "base_uri": "https://localhost:8080/"
        },
        "id": "XyhrzTADpYjz",
        "outputId": "a68b528e-197c-42f1-9f1b-0b4fefd19576"
      },
      "execution_count": null,
      "outputs": [
        {
          "output_type": "stream",
          "name": "stdout",
          "text": [
            "F1 Score =  74 %\n"
          ]
        }
      ]
    },
    {
      "cell_type": "code",
      "execution_count": null,
      "metadata": {
        "colab": {
          "base_uri": "https://localhost:8080/"
        },
        "id": "zzgRpNdMSzxH",
        "outputId": "674b90b9-6d28-4050-fe98-7f4d3e461764"
      },
      "outputs": [
        {
          "output_type": "stream",
          "name": "stdout",
          "text": [
            "Classification Report - \n",
            "              precision    recall  f1-score   support\n",
            "\n",
            "           0       0.68      0.80      0.74       912\n",
            "           1       0.75      0.63      0.69       909\n",
            "\n",
            "    accuracy                           0.71      1821\n",
            "   macro avg       0.72      0.71      0.71      1821\n",
            "weighted avg       0.72      0.71      0.71      1821\n",
            "\n"
          ]
        }
      ],
      "source": [
        "# Print the classification report\n",
        "print(\"Classification Report - \")\n",
        "cr_KNN2 = classification_report(y_test, pr_KNN2)\n",
        "print(cr_KNN2)"
      ]
    },
    {
      "cell_type": "code",
      "execution_count": null,
      "metadata": {
        "colab": {
          "base_uri": "https://localhost:8080/"
        },
        "id": "O6IeiXe0SzxH",
        "outputId": "4043100a-794b-4a00-ec33-b94def00a8e5"
      },
      "outputs": [
        {
          "output_type": "stream",
          "name": "stdout",
          "text": [
            "10-fold cross-val score for KNN is -\n",
            "66%\n"
          ]
        }
      ],
      "source": [
        "# perform the 10 fold cross validation\n",
        "print(\"10-fold cross-val score for KNN is -\")\n",
        "ac_KNN2 = cross_val_score(estimator = cl_KNN, X = x_test, y = y_test, cv = 10)\n",
        "print(f\"{round(ac_KNN2.mean()*100)}%\")"
      ]
    },
    {
      "cell_type": "markdown",
      "source": [
        "Decision Tree"
      ],
      "metadata": {
        "id": "HRdyBgDfuW3A"
      }
    },
    {
      "cell_type": "code",
      "execution_count": null,
      "metadata": {
        "id": "ME3ulNoQSzxH"
      },
      "outputs": [],
      "source": [
        "# Imports for decision tree:\n",
        "from sklearn.tree import DecisionTreeClassifier\n",
        "from sklearn.metrics import classification_report\n",
        "from sklearn.model_selection import cross_val_score"
      ]
    },
    {
      "cell_type": "code",
      "execution_count": null,
      "metadata": {
        "id": "jal8mZVLSzxI"
      },
      "outputs": [],
      "source": [
        "# create & fit the model:\n",
        "cl_DT = DecisionTreeClassifier()\n",
        "model_DT = cl_DT.fit(x_train, y_train) \n",
        "pr_DT = cl_DT.predict(x_valid) "
      ]
    },
    {
      "cell_type": "code",
      "execution_count": null,
      "metadata": {
        "id": "r9s2kQoySzxI",
        "outputId": "5b9d256c-ccec-47b6-addb-e0c07bed8dce"
      },
      "outputs": [
        {
          "name": "stdout",
          "output_type": "stream",
          "text": [
            "Accuracy =  60 %\n"
          ]
        }
      ],
      "source": [
        "# printing the evaluation measures: accuracy\n",
        "print (\"Accuracy = \", round(accuracy_score(y_valid, pr_DT)*100),\"%\")"
      ]
    },
    {
      "cell_type": "code",
      "execution_count": null,
      "metadata": {
        "id": "JUNXWOkbSzxI",
        "outputId": "8b94739a-a30e-48c8-aae9-ac6a1b35055e"
      },
      "outputs": [
        {
          "name": "stdout",
          "output_type": "stream",
          "text": [
            "Precision =  59 %\n"
          ]
        }
      ],
      "source": [
        "# printing the evaluation measures: precision\n",
        "print (\"Precision = \", round(precision_score(y_valid, pr_DT, pos_label=0)*100),\"%\")"
      ]
    },
    {
      "cell_type": "code",
      "execution_count": null,
      "metadata": {
        "id": "Q39kQyi4SzxJ",
        "outputId": "03280944-bc41-42d1-b289-191cac5eb256"
      },
      "outputs": [
        {
          "name": "stdout",
          "output_type": "stream",
          "text": [
            "Recall =  57 %\n"
          ]
        }
      ],
      "source": [
        "# printing the evaluation measures: recall\n",
        "print (\"Recall = \", round(recall_score(y_valid, pr_DT, pos_label=0)*100),\"%\")"
      ]
    },
    {
      "cell_type": "code",
      "execution_count": null,
      "metadata": {
        "id": "2Jh5Lfp5SzxJ",
        "outputId": "00e4c02f-0f18-42ce-8280-0e958c39406d"
      },
      "outputs": [
        {
          "name": "stdout",
          "output_type": "stream",
          "text": [
            "F1 score =  58 %\n"
          ]
        }
      ],
      "source": [
        "# printing the evaluation measures: F1 score\n",
        "print (\"F1 score = \", round(f1_score(y_valid, pr_DT, pos_label=0)*100),\"%\")"
      ]
    },
    {
      "cell_type": "code",
      "execution_count": null,
      "metadata": {
        "id": "T_OrgOtESzxJ",
        "outputId": "c9d4d06b-3d4d-493a-9305-04f1d1cf4017"
      },
      "outputs": [
        {
          "name": "stdout",
          "output_type": "stream",
          "text": [
            "Classification Report -\n",
            "              precision    recall  f1-score   support\n",
            "\n",
            "           0       0.60      0.54      0.57       667\n",
            "           1       0.61      0.67      0.64       717\n",
            "\n",
            "    accuracy                           0.61      1384\n",
            "   macro avg       0.61      0.61      0.60      1384\n",
            "weighted avg       0.61      0.61      0.61      1384\n",
            "\n"
          ]
        }
      ],
      "source": [
        "# printing the classification report\n",
        "print(\"Classification Report -\")\n",
        "cl_report_DT = classification_report(y_valid, pr_DT)\n",
        "print(cl_report_DT)"
      ]
    },
    {
      "cell_type": "code",
      "execution_count": null,
      "metadata": {
        "id": "qg812Nt2SzxK",
        "outputId": "bb593202-ba36-4e33-ad83-3e895db7670a"
      },
      "outputs": [
        {
          "name": "stdout",
          "output_type": "stream",
          "text": [
            " 10-fold cross-val score for decision tree is -\n",
            "61%\n"
          ]
        }
      ],
      "source": [
        "# printing the 10-fold cross validation score\n",
        "print(\"10-fold cross-val score for decision tree is -\")\n",
        "acc_cv_DT = cross_val_score(estimator = cl_DT, X = x_train, y = y_train, cv = 10)\n",
        "print(f\"{round(acc_cv_DT.mean()*100)}%\")"
      ]
    },
    {
      "cell_type": "code",
      "execution_count": null,
      "metadata": {
        "id": "pnZyarJjSzxK",
        "outputId": "5cce95e0-8eca-472a-a8e2-310101edd444"
      },
      "outputs": [
        {
          "name": "stdout",
          "output_type": "stream",
          "text": [
            "Accuracy =  60 %\n"
          ]
        }
      ],
      "source": [
        "# predict the evaluation measures for test data\n",
        "pr_DT2 = cl_DT.predict(x_test) \n",
        "print (\"Accuracy = \", round(accuracy_score(y_test, pr_DT2)*100),\"%\")"
      ]
    },
    {
      "cell_type": "code",
      "execution_count": null,
      "metadata": {
        "id": "zhzoxHwiSzxL",
        "outputId": "648c1639-50e5-41d5-d90e-f6cfb507a5a3"
      },
      "outputs": [
        {
          "name": "stdout",
          "output_type": "stream",
          "text": [
            "Precision =  61 %\n"
          ]
        }
      ],
      "source": [
        "# predict the evaluation measures for test data: Precision\n",
        "print (\"Precision = \", round(precision_score(y_test, pr_DT2, pos_label=0)*100),\"%\")"
      ]
    },
    {
      "cell_type": "code",
      "execution_count": null,
      "metadata": {
        "id": "DdOWj92nSzxL",
        "outputId": "8f4348a3-8de4-47c6-e5a6-010ee5944601"
      },
      "outputs": [
        {
          "name": "stdout",
          "output_type": "stream",
          "text": [
            "Recall =  55 %\n"
          ]
        }
      ],
      "source": [
        "# predict the evaluation measures for test data: recall\n",
        "print (\"Recall = \", round(recall_score(y_test, pr_DT2, pos_label=0)*100),\"%\")"
      ]
    },
    {
      "cell_type": "code",
      "execution_count": null,
      "metadata": {
        "id": "wo0qaqS8SzxM",
        "outputId": "934e33ac-1e70-4f21-b72d-398a0563e266"
      },
      "outputs": [
        {
          "name": "stdout",
          "output_type": "stream",
          "text": [
            "F1 Score =  58 %\n"
          ]
        }
      ],
      "source": [
        "# predict the evaluation measures for test data: F1 score\n",
        "print (\"F1 Score = \", round(f1_score(y_test, pr_DT2, pos_label=0)*100),\"%\")"
      ]
    },
    {
      "cell_type": "code",
      "execution_count": null,
      "metadata": {
        "id": "YIkLea6nSzxM",
        "outputId": "f12ee220-5202-45b5-cfde-b56561013770"
      },
      "outputs": [
        {
          "name": "stdout",
          "output_type": "stream",
          "text": [
            "Classification Report -\n",
            "              precision    recall  f1-score   support\n",
            "\n",
            "           0       0.61      0.55      0.58       912\n",
            "           1       0.59      0.65      0.62       909\n",
            "\n",
            "    accuracy                           0.60      1821\n",
            "   macro avg       0.60      0.60      0.60      1821\n",
            "weighted avg       0.60      0.60      0.60      1821\n",
            "\n"
          ]
        }
      ],
      "source": [
        "# printing the classification report\n",
        "print(\"Classification Report -\")\n",
        "cr_dt_test = classification_report(y_test, pr_DT2)\n",
        "print(cr_dt_test)"
      ]
    },
    {
      "cell_type": "code",
      "execution_count": null,
      "metadata": {
        "id": "eslir5UJSzxM",
        "outputId": "8c46a017-cf14-4090-a289-14d4c8db9f0f"
      },
      "outputs": [
        {
          "name": "stdout",
          "output_type": "stream",
          "text": [
            "10-fold cross-val score for decision tree is -\n",
            "61%\n"
          ]
        }
      ],
      "source": [
        "# find the 10-fold cross validation score\n",
        "print(\"10-fold cross-val score for decision tree is -\")\n",
        "acc_dt2 = cross_val_score(estimator = cl_DT, X = x_test, y = y_test, cv = 10)\n",
        "print(f\"{round(acc_dt2.mean()*100)}%\")"
      ]
    },
    {
      "cell_type": "markdown",
      "source": [
        "Random forest"
      ],
      "metadata": {
        "id": "DLrRdh6svJDp"
      }
    },
    {
      "cell_type": "code",
      "execution_count": null,
      "metadata": {
        "id": "o0jYnOtuSzxN"
      },
      "outputs": [],
      "source": [
        "# imports for random forest\n",
        "from sklearn.ensemble import RandomForestClassifier\n",
        "from sklearn.metrics import classification_report\n",
        "from sklearn.model_selection import cross_val_score"
      ]
    },
    {
      "cell_type": "code",
      "execution_count": null,
      "metadata": {
        "id": "vCzNQa0GSzxO"
      },
      "outputs": [],
      "source": [
        "# create and fit the Random forest model\n",
        "cl_RF = RandomForestClassifier()\n",
        "model_RF = cl_RF.fit(x_train, y_train) \n",
        "pr_RF = cl_RF.predict(x_valid) "
      ]
    },
    {
      "cell_type": "code",
      "execution_count": null,
      "metadata": {
        "id": "TGWyIlOhSzxO",
        "outputId": "7758516d-4b7c-4ab8-edee-d2711b030b38"
      },
      "outputs": [
        {
          "name": "stdout",
          "output_type": "stream",
          "text": [
            "Accuracy =  70 %\n"
          ]
        }
      ],
      "source": [
        "# printing the evaluation measures\n",
        "print (\"Accuracy = \", round(accuracy_score(y_valid, pr_RF)*100),\"%\")"
      ]
    },
    {
      "cell_type": "code",
      "execution_count": null,
      "metadata": {
        "id": "wc6cbMv6SzxO",
        "outputId": "82150857-34f9-41f9-8836-d08476adc15c"
      },
      "outputs": [
        {
          "name": "stdout",
          "output_type": "stream",
          "text": [
            "Percision =  70 %\n"
          ]
        }
      ],
      "source": [
        "print (\"Percision = \", round(precision_score(y_valid, pr_RF, pos_label=0)*100),\"%\")"
      ]
    },
    {
      "cell_type": "code",
      "execution_count": null,
      "metadata": {
        "id": "DrxfrHDOSzxP",
        "outputId": "4f05a1bd-4778-4fcc-cf5f-29edba16e010"
      },
      "outputs": [
        {
          "name": "stdout",
          "output_type": "stream",
          "text": [
            "Recall =  65 %\n"
          ]
        }
      ],
      "source": [
        "print (\"Recall = \", round(recall_score(y_valid, pr_RF, pos_label=0)*100),\"%\")"
      ]
    },
    {
      "cell_type": "code",
      "execution_count": null,
      "metadata": {
        "id": "Flc4_Ij2SzxP",
        "outputId": "6de58c3c-696a-4238-8ea6-42fd9c0af5f3"
      },
      "outputs": [
        {
          "name": "stdout",
          "output_type": "stream",
          "text": [
            "F1 Score=  67 %\n"
          ]
        }
      ],
      "source": [
        "print (\"F1 Score= \", round(f1_score(y_valid, pr_RF, pos_label=0)*100),\"%\")"
      ]
    },
    {
      "cell_type": "code",
      "execution_count": null,
      "metadata": {
        "id": "QUyESEBYSzxP",
        "outputId": "6427bea4-9185-4f51-eeb4-c5c9e1cd45a9"
      },
      "outputs": [
        {
          "name": "stdout",
          "output_type": "stream",
          "text": [
            "Classification Report - \n",
            "              precision    recall  f1-score   support\n",
            "\n",
            "           0       0.70      0.65      0.67       667\n",
            "           1       0.69      0.75      0.72       717\n",
            "\n",
            "    accuracy                           0.70      1384\n",
            "   macro avg       0.70      0.70      0.70      1384\n",
            "weighted avg       0.70      0.70      0.70      1384\n",
            "\n"
          ]
        }
      ],
      "source": [
        "# printing the classification report\n",
        "print(\"Classification Report - \")\n",
        "cr_RF = classification_report(y_valid, pr_RF)\n",
        "print(cr_RF)"
      ]
    },
    {
      "cell_type": "code",
      "execution_count": null,
      "metadata": {
        "id": "S3NWG9xoSzxQ",
        "outputId": "827d6d93-4625-458b-e939-217e6b2033f2"
      },
      "outputs": [
        {
          "name": "stdout",
          "output_type": "stream",
          "text": [
            "10-fold cross-val score for random forest is -\n",
            "71%\n"
          ]
        }
      ],
      "source": [
        "# finding the 10-fold cross validation score\n",
        "print(\"10-fold cross-val score for random forest is -\")\n",
        "cv_RF = cross_val_score(estimator = cl_RF, X = x_train, y = y_train, cv = 10)\n",
        "print(f\"{round(cv_RF.mean()*100)}%\")"
      ]
    },
    {
      "cell_type": "code",
      "execution_count": null,
      "metadata": {
        "id": "-CqYTWAmSzxQ"
      },
      "outputs": [],
      "source": [
        "# predict for test dataset\n",
        "pr_RF2 = cl_RF.predict(x_test) "
      ]
    },
    {
      "cell_type": "code",
      "execution_count": null,
      "metadata": {
        "id": "r0-Y9sHoSzxQ",
        "outputId": "a553b4a6-baad-4d9d-e9c7-944af39b02d6"
      },
      "outputs": [
        {
          "name": "stdout",
          "output_type": "stream",
          "text": [
            "Accuracy =  72 %\n"
          ]
        }
      ],
      "source": [
        "# finding the evaluation measures - accuracy\n",
        "print (\"Accuracy = \", round(accuracy_score(y_test, pr_RF2)*100),\"%\")"
      ]
    },
    {
      "cell_type": "code",
      "execution_count": null,
      "metadata": {
        "id": "CQD9YsXBSzxQ",
        "outputId": "c9d63e5c-6b5c-4465-ed11-f39c2049f90e"
      },
      "outputs": [
        {
          "name": "stdout",
          "output_type": "stream",
          "text": [
            "Percision =  75 %\n"
          ]
        }
      ],
      "source": [
        "# finding the evaluation measures - precision\n",
        "print (\"Percision = \", round(precision_score(y_test, pr_RF2, pos_label=0)*100),\"%\")"
      ]
    },
    {
      "cell_type": "code",
      "execution_count": null,
      "metadata": {
        "id": "7CzQvihlSzxR",
        "outputId": "60eaf6e1-1f3a-4720-b4b9-579140f276e5"
      },
      "outputs": [
        {
          "name": "stdout",
          "output_type": "stream",
          "text": [
            "Recall =  66 %\n"
          ]
        }
      ],
      "source": [
        "# finding the evaluation measures - recall\n",
        "print (\"Recall = \", round(recall_score(y_test, pr_RF2, pos_label=0)*100),\"%\")"
      ]
    },
    {
      "cell_type": "code",
      "execution_count": null,
      "metadata": {
        "id": "fzqc2uVvSzxR",
        "outputId": "588758d2-51fc-4069-9565-80c6c0b42f3a"
      },
      "outputs": [
        {
          "name": "stdout",
          "output_type": "stream",
          "text": [
            "F1 Score =  70 %\n"
          ]
        }
      ],
      "source": [
        "# finding the evaluation measures - F1 score\n",
        "print (\"F1 Score = \", round(f1_score(y_test, pr_RF2, pos_label=0)*100),\"%\")"
      ]
    },
    {
      "cell_type": "code",
      "execution_count": null,
      "metadata": {
        "id": "S0SVWDT5SzxR",
        "outputId": "1d093686-77ae-4a2c-8db7-160110c63eaa"
      },
      "outputs": [
        {
          "name": "stdout",
          "output_type": "stream",
          "text": [
            "Classification Report:  \n",
            " \n",
            "               precision    recall  f1-score   support\n",
            "\n",
            "           0       0.75      0.66      0.70       912\n",
            "           1       0.69      0.77      0.73       909\n",
            "\n",
            "    accuracy                           0.72      1821\n",
            "   macro avg       0.72      0.72      0.72      1821\n",
            "weighted avg       0.72      0.72      0.72      1821\n",
            "\n"
          ]
        }
      ],
      "source": [
        "# printing the classification report for test data\n",
        "cr_rf_test = classification_report(y_test, pr_RF2)\n",
        "print(\"Classification Report: \", \"\\n\", \"\\n\",cr_rf_test)"
      ]
    },
    {
      "cell_type": "code",
      "execution_count": null,
      "metadata": {
        "id": "Tbogv-l2SzxS",
        "outputId": "bd3fd8b5-a7e3-466b-f40b-d00585fd876b"
      },
      "outputs": [
        {
          "name": "stdout",
          "output_type": "stream",
          "text": [
            "10-fold cross-val score for random forest is -\n",
            "68%\n"
          ]
        }
      ],
      "source": [
        "# finding the 10-fold cross validation score\n",
        "print(\"10-fold cross-val score for random forest is -\")\n",
        "ac_RF = cross_val_score(estimator = cl_RF, X = x_test, y = y_test, cv = 10)\n",
        "print(f\"{round(ac_RF.mean()*100)}%\")"
      ]
    },
    {
      "cell_type": "markdown",
      "source": [
        "XGBoost"
      ],
      "metadata": {
        "id": "Pi28CNdlvPS3"
      }
    },
    {
      "cell_type": "code",
      "execution_count": null,
      "metadata": {
        "id": "r7NNAKeKSzxS",
        "outputId": "052a5634-e371-4a65-f615-ccda1b4e9956"
      },
      "outputs": [
        {
          "name": "stdout",
          "output_type": "stream",
          "text": [
            "Collecting xgboost\n",
            "  Downloading xgboost-1.7.5-py3-none-win_amd64.whl (70.9 MB)\n",
            "Requirement already satisfied: numpy in c:\\users\\arti phadke\\anaconda3\\lib\\site-packages (from xgboost) (1.24.2)\n",
            "Requirement already satisfied: scipy in c:\\users\\arti phadke\\anaconda3\\lib\\site-packages (from xgboost) (1.10.1)\n",
            "Installing collected packages: xgboost\n",
            "Successfully installed xgboost-1.7.5\n"
          ]
        }
      ],
      "source": [
        "!pip install xgboost"
      ]
    },
    {
      "cell_type": "code",
      "execution_count": null,
      "metadata": {
        "id": "xZNR3j9TSzxS"
      },
      "outputs": [],
      "source": [
        "# imports for XGBoost\n",
        "from xgboost import XGBClassifier\n",
        "from sklearn.metrics import classification_report\n",
        "from sklearn.model_selection import cross_val_score"
      ]
    },
    {
      "cell_type": "code",
      "execution_count": null,
      "metadata": {
        "id": "qO4lSz2iSzxS"
      },
      "outputs": [],
      "source": [
        "# XGBoost\n",
        "cl_XGB = XGBClassifier()\n",
        "model_XGB = cl_XGB.fit(x_train, y_train) \n",
        "pr_XGB = cl_XGB.predict(x_valid) "
      ]
    },
    {
      "cell_type": "code",
      "execution_count": null,
      "metadata": {
        "id": "ksLfHFrkSzxT",
        "outputId": "0e20389c-a965-4038-e613-07661b24f6c5"
      },
      "outputs": [
        {
          "name": "stdout",
          "output_type": "stream",
          "text": [
            "Accuracy =  69 %\n"
          ]
        }
      ],
      "source": [
        "# printing the evaluation measures: accuracy\n",
        "print (\"Accuracy = \", round(accuracy_score(y_valid, pr_XGB )*100),\"%\")"
      ]
    },
    {
      "cell_type": "code",
      "execution_count": null,
      "metadata": {
        "id": "XlgHPjJaSzxT",
        "outputId": "08f38453-3d71-4006-ed13-9857b53d2fd4"
      },
      "outputs": [
        {
          "name": "stdout",
          "output_type": "stream",
          "text": [
            "Percision =  71 %\n"
          ]
        }
      ],
      "source": [
        "# printing the evaluation measures: precision \n",
        "print (\"Percision = \", round(precision_score(y_valid, pr_XGB, pos_label=0)*100),\"%\")"
      ]
    },
    {
      "cell_type": "code",
      "execution_count": null,
      "metadata": {
        "id": "yeJBoDfMSzxT",
        "outputId": "abe50f3c-1716-4c34-e763-7301083c1761"
      },
      "outputs": [
        {
          "name": "stdout",
          "output_type": "stream",
          "text": [
            "Recall =  61 %\n"
          ]
        }
      ],
      "source": [
        "# printing the evaluation measures: recall\n",
        "print (\"Recall = \", round(recall_score(y_valid, pr_XGB, pos_label=0)*100),\"%\")"
      ]
    },
    {
      "cell_type": "code",
      "execution_count": null,
      "metadata": {
        "id": "UtKQqAVbSzxT",
        "outputId": "9eecdf74-4484-46bd-fbff-82db5ef63b72"
      },
      "outputs": [
        {
          "name": "stdout",
          "output_type": "stream",
          "text": [
            "F1 Score =  66 %\n"
          ]
        }
      ],
      "source": [
        "# printing the evaluation measures: F1 score\n",
        "print (\"F1 Score = \", round(f1_score(y_valid, pr_XGB, pos_label=0)*100),\"%\")"
      ]
    },
    {
      "cell_type": "code",
      "execution_count": null,
      "metadata": {
        "id": "5INJPuRVSzxT",
        "outputId": "fe10c89e-b894-41f5-ccd9-e2a7bac3e797"
      },
      "outputs": [
        {
          "name": "stdout",
          "output_type": "stream",
          "text": [
            "Classification Report - \n",
            "              precision    recall  f1-score   support\n",
            "\n",
            "           0       0.71      0.61      0.66       667\n",
            "           1       0.68      0.77      0.72       717\n",
            "\n",
            "    accuracy                           0.69      1384\n",
            "   macro avg       0.70      0.69      0.69      1384\n",
            "weighted avg       0.70      0.69      0.69      1384\n",
            "\n"
          ]
        }
      ],
      "source": [
        "# printing the classification report\n",
        "print(\"Classification Report - \")\n",
        "cr_XGB = classification_report(y_valid, pr_XGB)\n",
        "print(cr_XGB)"
      ]
    },
    {
      "cell_type": "code",
      "execution_count": null,
      "metadata": {
        "id": "QGXXV962SzxT",
        "outputId": "1eda5f7b-4006-4643-99d9-552c28b59059"
      },
      "outputs": [
        {
          "name": "stdout",
          "output_type": "stream",
          "text": [
            "10-fold cross-val score for XGB is -\n",
            "71%\n"
          ]
        }
      ],
      "source": [
        "# printing the 10-fold cross validation score\n",
        "print(\"10-fold cross-val score for XGB is -\")\n",
        "ac_XGB = cross_val_score(estimator = cl_XGB, X = x_train, y = y_train, cv = 10)\n",
        "print(f\"{round(ac_XGB.mean()*100)}%\")"
      ]
    },
    {
      "cell_type": "code",
      "execution_count": null,
      "metadata": {
        "id": "BmyN2WTlSzxU"
      },
      "outputs": [],
      "source": [
        "pr_XGB2 = cl_XGB.predict(x_test) "
      ]
    },
    {
      "cell_type": "code",
      "execution_count": null,
      "metadata": {
        "id": "9DDT9qhGSzxU",
        "outputId": "b354bcf7-5080-4394-ea69-231ca7922ac7"
      },
      "outputs": [
        {
          "name": "stdout",
          "output_type": "stream",
          "text": [
            "Accuracy =  72 %\n"
          ]
        }
      ],
      "source": [
        "# printing the evaluation measures: accuracy\n",
        "print (\"Accuracy = \", round(accuracy_score(y_test, pr_XGB2)*100),\"%\")"
      ]
    },
    {
      "cell_type": "code",
      "execution_count": null,
      "metadata": {
        "id": "nicDyjLjSzxU",
        "outputId": "89816534-97d5-4b01-a4fc-cd257c4afb97"
      },
      "outputs": [
        {
          "name": "stdout",
          "output_type": "stream",
          "text": [
            "Percision =  76 %\n"
          ]
        }
      ],
      "source": [
        "# printing the evaluation measures: precision\n",
        "print (\"Percision = \", round(precision_score(y_test, pr_XGB2, pos_label=0)*100),\"%\")"
      ]
    },
    {
      "cell_type": "code",
      "execution_count": null,
      "metadata": {
        "id": "0pFADFQ2SzxU",
        "outputId": "dd586445-813d-4eeb-ae9f-7e5d773b2309"
      },
      "outputs": [
        {
          "name": "stdout",
          "output_type": "stream",
          "text": [
            "Recall =  64 %\n"
          ]
        }
      ],
      "source": [
        "# printing the evaluation measures: recall\n",
        "print (\"Recall = \", round(recall_score(y_test, pr_XGB2, pos_label=0)*100),\"%\")"
      ]
    },
    {
      "cell_type": "code",
      "execution_count": null,
      "metadata": {
        "id": "UUYdk6QHSzxU",
        "outputId": "63151c17-0d17-4c8f-c77a-d0fa09cb67d7"
      },
      "outputs": [
        {
          "name": "stdout",
          "output_type": "stream",
          "text": [
            "F1 Score =  70 %\n"
          ]
        }
      ],
      "source": [
        "# printing the evaluation measures: F1 score\n",
        "print (\"F1 Score = \", round(f1_score(y_test, pr_XGB2, pos_label=0)*100),\"%\")"
      ]
    },
    {
      "cell_type": "code",
      "execution_count": null,
      "metadata": {
        "id": "W8xx4ayGSzxV",
        "outputId": "95db4c4f-2823-4931-fda8-fcfafceadc1c"
      },
      "outputs": [
        {
          "name": "stdout",
          "output_type": "stream",
          "text": [
            "Classification Report - \n",
            "              precision    recall  f1-score   support\n",
            "\n",
            "           0       0.76      0.64      0.70       912\n",
            "           1       0.69      0.80      0.74       909\n",
            "\n",
            "    accuracy                           0.72      1821\n",
            "   macro avg       0.73      0.72      0.72      1821\n",
            "weighted avg       0.73      0.72      0.72      1821\n",
            "\n"
          ]
        }
      ],
      "source": [
        "# printing the classification report\n",
        "print(\"Classification Report - \")\n",
        "cr_XGB2 = classification_report(y_test, pr_XGB2)\n",
        "print(cr_XGB2)"
      ]
    },
    {
      "cell_type": "code",
      "execution_count": null,
      "metadata": {
        "id": "bh0xJr1iSzxV",
        "outputId": "babcdb74-59d1-48d8-f4b9-b3a369974951"
      },
      "outputs": [
        {
          "name": "stdout",
          "output_type": "stream",
          "text": [
            "10-fold cross-val score for XGB is -\n",
            "66%\n"
          ]
        }
      ],
      "source": [
        "# printing the 10-fold cross validation score\n",
        "print(\"10-fold cross-val score for XGB is -\")\n",
        "ac_XGB2 = cross_val_score(estimator = cl_XGB, X = x_test, y = y_test, cv = 10)\n",
        "print(f\"{round(ac_XGB2.mean()*100)}%\")"
      ]
    },
    {
      "cell_type": "code",
      "execution_count": null,
      "metadata": {
        "id": "6w6rKx_ISzxV"
      },
      "outputs": [],
      "source": []
    },
    {
      "cell_type": "markdown",
      "metadata": {
        "id": "3Yl-hTsBSzxV"
      },
      "source": [
        "(20 points) The purpose of the question is to practice different machine learning algorithms for text clustering\n",
        "Please downlad the dataset by using the following link.  https://www.kaggle.com/PromptCloudHQ/amazon-reviews-unlocked-mobile-phones\n",
        "(You can also use different text data which you want)\n",
        "\n",
        "Apply the listed clustering methods to the dataset:\n",
        "\n",
        "K-means\n",
        "\n",
        "DBSCAN\n",
        "\n",
        "Hierarchical clustering\n",
        "\n",
        "Word2Vec\n",
        "\n",
        "BERT\n",
        "\n",
        "You can refer to of the codes from  the follwing link below. \n",
        "https://www.kaggle.com/karthik3890/text-clustering "
      ]
    },
    {
      "cell_type": "code",
      "source": [
        "#Write your code here.\n",
        "\n",
        "# download the packages required for the data cleaning\n",
        "import nltk\n",
        "nltk.download()\n",
        "from nltk.tokenize import RegexpTokenizer\n",
        "from nltk.stem import WordNetLemmatizer,PorterStemmer\n",
        "from nltk.corpus import stopwords\n",
        "import re\n",
        "lemmatizer = WordNetLemmatizer()\n",
        "stemmer = PorterStemmer() \n",
        "\n",
        "# define function to clean the data\n",
        "def preprocess(s):\n",
        "    s=str(s)\n",
        "    # convert to lowercase\n",
        "    s = s.lower()\n",
        "    # remove the HTML tags from the text\n",
        "    s=s.replace('{html}',\"\") \n",
        "    # remove special characters\n",
        "    cr = re.compile('<.*?>')\n",
        "    ct = re.sub(cr, '', s)\n",
        "    rem=re.sub(r'http\\S+', '',ct)\n",
        "    # remove numerical data\n",
        "    remn = re.sub('[0-9]+', '', rem)\n",
        "    # create and run the tokenizer\n",
        "    tokenizer = RegexpTokenizer(r'\\w+')\n",
        "    tokens = tokenizer.tokenize(remn)  \n",
        "    # remove the stopwords\n",
        "    filtered_words = [w for w in tokens if len(w) > 2 if not w in stopwords.words('english')]\n",
        "    # convert to stemmed words\n",
        "    w_stem=[stemmer.stem(w) for w in filtered_words]\n",
        "    # convert to lemmatized words\n",
        "    w_lemm=[lemmatizer.lemmatize(w) for w in w_stem]\n",
        "    # create a string of filtered words and return the same to calling function\n",
        "    return \" \".join(filtered_words)"
      ],
      "metadata": {
        "colab": {
          "base_uri": "https://localhost:8080/"
        },
        "id": "HF68L7O-S-p2",
        "outputId": "7354d168-2416-47c7-9b32-a80292f1a2b4"
      },
      "execution_count": null,
      "outputs": [
        {
          "name": "stdout",
          "output_type": "stream",
          "text": [
            "NLTK Downloader\n",
            "---------------------------------------------------------------------------\n",
            "    d) Download   l) List    u) Update   c) Config   h) Help   q) Quit\n",
            "---------------------------------------------------------------------------\n",
            "Downloader> d\n",
            "\n",
            "Download which package (l=list; x=cancel)?\n",
            "  Identifier> all\n"
          ]
        },
        {
          "output_type": "stream",
          "name": "stderr",
          "text": [
            "    Downloading collection 'all'\n",
            "       | \n",
            "       | Downloading package abc to /root/nltk_data...\n",
            "       |   Package abc is already up-to-date!\n",
            "       | Downloading package alpino to /root/nltk_data...\n",
            "       |   Package alpino is already up-to-date!\n",
            "       | Downloading package averaged_perceptron_tagger to\n",
            "       |     /root/nltk_data...\n",
            "       |   Package averaged_perceptron_tagger is already up-to-date!\n",
            "       | Downloading package averaged_perceptron_tagger_ru to\n",
            "       |     /root/nltk_data...\n",
            "       |   Package averaged_perceptron_tagger_ru is already up-to-\n",
            "       |       date!\n",
            "       | Downloading package basque_grammars to /root/nltk_data...\n",
            "       |   Package basque_grammars is already up-to-date!\n",
            "       | Downloading package bcp47 to /root/nltk_data...\n",
            "       |   Package bcp47 is already up-to-date!\n",
            "       | Downloading package biocreative_ppi to /root/nltk_data...\n",
            "       |   Package biocreative_ppi is already up-to-date!\n",
            "       | Downloading package bllip_wsj_no_aux to /root/nltk_data...\n",
            "       |   Package bllip_wsj_no_aux is already up-to-date!\n",
            "       | Downloading package book_grammars to /root/nltk_data...\n",
            "       |   Package book_grammars is already up-to-date!\n",
            "       | Downloading package brown to /root/nltk_data...\n",
            "       |   Package brown is already up-to-date!\n",
            "       | Downloading package brown_tei to /root/nltk_data...\n",
            "       |   Package brown_tei is already up-to-date!\n",
            "       | Downloading package cess_cat to /root/nltk_data...\n",
            "       |   Package cess_cat is already up-to-date!\n",
            "       | Downloading package cess_esp to /root/nltk_data...\n",
            "       |   Package cess_esp is already up-to-date!\n",
            "       | Downloading package chat80 to /root/nltk_data...\n",
            "       |   Package chat80 is already up-to-date!\n",
            "       | Downloading package city_database to /root/nltk_data...\n",
            "       |   Package city_database is already up-to-date!\n",
            "       | Downloading package cmudict to /root/nltk_data...\n",
            "       |   Package cmudict is already up-to-date!\n",
            "       | Downloading package comparative_sentences to\n",
            "       |     /root/nltk_data...\n",
            "       |   Package comparative_sentences is already up-to-date!\n",
            "       | Downloading package comtrans to /root/nltk_data...\n",
            "       |   Package comtrans is already up-to-date!\n",
            "       | Downloading package conll2000 to /root/nltk_data...\n",
            "       |   Package conll2000 is already up-to-date!\n",
            "       | Downloading package conll2002 to /root/nltk_data...\n",
            "       |   Package conll2002 is already up-to-date!\n",
            "       | Downloading package conll2007 to /root/nltk_data...\n",
            "       |   Package conll2007 is already up-to-date!\n",
            "       | Downloading package crubadan to /root/nltk_data...\n",
            "       |   Package crubadan is already up-to-date!\n",
            "       | Downloading package dependency_treebank to /root/nltk_data...\n",
            "       |   Package dependency_treebank is already up-to-date!\n",
            "       | Downloading package dolch to /root/nltk_data...\n",
            "       |   Package dolch is already up-to-date!\n",
            "       | Downloading package europarl_raw to /root/nltk_data...\n",
            "       |   Package europarl_raw is already up-to-date!\n",
            "       | Downloading package extended_omw to /root/nltk_data...\n",
            "       |   Package extended_omw is already up-to-date!\n",
            "       | Downloading package floresta to /root/nltk_data...\n",
            "       |   Package floresta is already up-to-date!\n",
            "       | Downloading package framenet_v15 to /root/nltk_data...\n",
            "       |   Package framenet_v15 is already up-to-date!\n",
            "       | Downloading package framenet_v17 to /root/nltk_data...\n",
            "       |   Package framenet_v17 is already up-to-date!\n",
            "       | Downloading package gazetteers to /root/nltk_data...\n",
            "       |   Package gazetteers is already up-to-date!\n",
            "       | Downloading package genesis to /root/nltk_data...\n",
            "       |   Package genesis is already up-to-date!\n",
            "       | Downloading package gutenberg to /root/nltk_data...\n",
            "       |   Package gutenberg is already up-to-date!\n",
            "       | Downloading package ieer to /root/nltk_data...\n",
            "       |   Package ieer is already up-to-date!\n",
            "       | Downloading package inaugural to /root/nltk_data...\n",
            "       |   Package inaugural is already up-to-date!\n",
            "       | Downloading package indian to /root/nltk_data...\n",
            "       |   Package indian is already up-to-date!\n",
            "       | Downloading package jeita to /root/nltk_data...\n",
            "       |   Package jeita is already up-to-date!\n",
            "       | Downloading package kimmo to /root/nltk_data...\n",
            "       |   Package kimmo is already up-to-date!\n",
            "       | Downloading package knbc to /root/nltk_data...\n",
            "       |   Package knbc is already up-to-date!\n",
            "       | Downloading package large_grammars to /root/nltk_data...\n",
            "       |   Package large_grammars is already up-to-date!\n",
            "       | Downloading package lin_thesaurus to /root/nltk_data...\n",
            "       |   Package lin_thesaurus is already up-to-date!\n",
            "       | Downloading package mac_morpho to /root/nltk_data...\n",
            "       |   Package mac_morpho is already up-to-date!\n",
            "       | Downloading package machado to /root/nltk_data...\n",
            "       |   Package machado is already up-to-date!\n",
            "       | Downloading package masc_tagged to /root/nltk_data...\n",
            "       |   Package masc_tagged is already up-to-date!\n",
            "       | Downloading package maxent_ne_chunker to /root/nltk_data...\n",
            "       |   Package maxent_ne_chunker is already up-to-date!\n",
            "       | Downloading package maxent_treebank_pos_tagger to\n",
            "       |     /root/nltk_data...\n",
            "       |   Package maxent_treebank_pos_tagger is already up-to-date!\n",
            "       | Downloading package moses_sample to /root/nltk_data...\n",
            "       |   Package moses_sample is already up-to-date!\n",
            "       | Downloading package movie_reviews to /root/nltk_data...\n",
            "       |   Package movie_reviews is already up-to-date!\n",
            "       | Downloading package mte_teip5 to /root/nltk_data...\n",
            "       |   Package mte_teip5 is already up-to-date!\n",
            "       | Downloading package mwa_ppdb to /root/nltk_data...\n",
            "       |   Package mwa_ppdb is already up-to-date!\n",
            "       | Downloading package names to /root/nltk_data...\n",
            "       |   Package names is already up-to-date!\n",
            "       | Downloading package nombank.1.0 to /root/nltk_data...\n",
            "       |   Package nombank.1.0 is already up-to-date!\n",
            "       | Downloading package nonbreaking_prefixes to\n",
            "       |     /root/nltk_data...\n",
            "       |   Package nonbreaking_prefixes is already up-to-date!\n",
            "       | Downloading package nps_chat to /root/nltk_data...\n",
            "       |   Package nps_chat is already up-to-date!\n",
            "       | Downloading package omw to /root/nltk_data...\n",
            "       |   Package omw is already up-to-date!\n",
            "       | Downloading package omw-1.4 to /root/nltk_data...\n",
            "       |   Package omw-1.4 is already up-to-date!\n",
            "       | Downloading package opinion_lexicon to /root/nltk_data...\n",
            "       |   Package opinion_lexicon is already up-to-date!\n",
            "       | Downloading package panlex_swadesh to /root/nltk_data...\n",
            "       |   Package panlex_swadesh is already up-to-date!\n",
            "       | Downloading package paradigms to /root/nltk_data...\n",
            "       |   Package paradigms is already up-to-date!\n",
            "       | Downloading package pe08 to /root/nltk_data...\n",
            "       |   Package pe08 is already up-to-date!\n",
            "       | Downloading package perluniprops to /root/nltk_data...\n",
            "       |   Package perluniprops is already up-to-date!\n",
            "       | Downloading package pil to /root/nltk_data...\n",
            "       |   Package pil is already up-to-date!\n",
            "       | Downloading package pl196x to /root/nltk_data...\n",
            "       |   Package pl196x is already up-to-date!\n",
            "       | Downloading package porter_test to /root/nltk_data...\n",
            "       |   Package porter_test is already up-to-date!\n",
            "       | Downloading package ppattach to /root/nltk_data...\n",
            "       |   Package ppattach is already up-to-date!\n",
            "       | Downloading package problem_reports to /root/nltk_data...\n",
            "       |   Package problem_reports is already up-to-date!\n",
            "       | Downloading package product_reviews_1 to /root/nltk_data...\n",
            "       |   Package product_reviews_1 is already up-to-date!\n",
            "       | Downloading package product_reviews_2 to /root/nltk_data...\n",
            "       |   Package product_reviews_2 is already up-to-date!\n",
            "       | Downloading package propbank to /root/nltk_data...\n",
            "       |   Package propbank is already up-to-date!\n",
            "       | Downloading package pros_cons to /root/nltk_data...\n",
            "       |   Package pros_cons is already up-to-date!\n",
            "       | Downloading package ptb to /root/nltk_data...\n",
            "       |   Package ptb is already up-to-date!\n",
            "       | Downloading package punkt to /root/nltk_data...\n",
            "       |   Package punkt is already up-to-date!\n",
            "       | Downloading package qc to /root/nltk_data...\n",
            "       |   Package qc is already up-to-date!\n",
            "       | Downloading package reuters to /root/nltk_data...\n",
            "       |   Package reuters is already up-to-date!\n",
            "       | Downloading package rslp to /root/nltk_data...\n",
            "       |   Package rslp is already up-to-date!\n",
            "       | Downloading package rte to /root/nltk_data...\n",
            "       |   Package rte is already up-to-date!\n",
            "       | Downloading package sample_grammars to /root/nltk_data...\n",
            "       |   Package sample_grammars is already up-to-date!\n",
            "       | Downloading package semcor to /root/nltk_data...\n",
            "       |   Package semcor is already up-to-date!\n",
            "       | Downloading package senseval to /root/nltk_data...\n",
            "       |   Package senseval is already up-to-date!\n",
            "       | Downloading package sentence_polarity to /root/nltk_data...\n",
            "       |   Package sentence_polarity is already up-to-date!\n",
            "       | Downloading package sentiwordnet to /root/nltk_data...\n",
            "       |   Package sentiwordnet is already up-to-date!\n",
            "       | Downloading package shakespeare to /root/nltk_data...\n",
            "       |   Package shakespeare is already up-to-date!\n",
            "       | Downloading package sinica_treebank to /root/nltk_data...\n",
            "       |   Package sinica_treebank is already up-to-date!\n",
            "       | Downloading package smultron to /root/nltk_data...\n",
            "       |   Package smultron is already up-to-date!\n",
            "       | Downloading package snowball_data to /root/nltk_data...\n",
            "       |   Package snowball_data is already up-to-date!\n",
            "       | Downloading package spanish_grammars to /root/nltk_data...\n",
            "       |   Package spanish_grammars is already up-to-date!\n",
            "       | Downloading package state_union to /root/nltk_data...\n",
            "       |   Package state_union is already up-to-date!\n",
            "       | Downloading package stopwords to /root/nltk_data...\n",
            "       |   Package stopwords is already up-to-date!\n",
            "       | Downloading package subjectivity to /root/nltk_data...\n",
            "       |   Package subjectivity is already up-to-date!\n",
            "       | Downloading package swadesh to /root/nltk_data...\n",
            "       |   Package swadesh is already up-to-date!\n",
            "       | Downloading package switchboard to /root/nltk_data...\n",
            "       |   Package switchboard is already up-to-date!\n",
            "       | Downloading package tagsets to /root/nltk_data...\n",
            "       |   Package tagsets is already up-to-date!\n",
            "       | Downloading package timit to /root/nltk_data...\n",
            "       |   Package timit is already up-to-date!\n",
            "       | Downloading package toolbox to /root/nltk_data...\n",
            "       |   Package toolbox is already up-to-date!\n",
            "       | Downloading package treebank to /root/nltk_data...\n",
            "       |   Package treebank is already up-to-date!\n",
            "       | Downloading package twitter_samples to /root/nltk_data...\n",
            "       |   Package twitter_samples is already up-to-date!\n",
            "       | Downloading package udhr to /root/nltk_data...\n",
            "       |   Package udhr is already up-to-date!\n",
            "       | Downloading package udhr2 to /root/nltk_data...\n",
            "       |   Package udhr2 is already up-to-date!\n",
            "       | Downloading package unicode_samples to /root/nltk_data...\n",
            "       |   Package unicode_samples is already up-to-date!\n",
            "       | Downloading package universal_tagset to /root/nltk_data...\n",
            "       |   Package universal_tagset is already up-to-date!\n",
            "       | Downloading package universal_treebanks_v20 to\n",
            "       |     /root/nltk_data...\n",
            "       |   Package universal_treebanks_v20 is already up-to-date!\n",
            "       | Downloading package vader_lexicon to /root/nltk_data...\n",
            "       |   Package vader_lexicon is already up-to-date!\n",
            "       | Downloading package verbnet to /root/nltk_data...\n",
            "       |   Package verbnet is already up-to-date!\n",
            "       | Downloading package verbnet3 to /root/nltk_data...\n",
            "       |   Package verbnet3 is already up-to-date!\n",
            "       | Downloading package webtext to /root/nltk_data...\n",
            "       |   Package webtext is already up-to-date!\n",
            "       | Downloading package wmt15_eval to /root/nltk_data...\n",
            "       |   Package wmt15_eval is already up-to-date!\n",
            "       | Downloading package word2vec_sample to /root/nltk_data...\n",
            "       |   Package word2vec_sample is already up-to-date!\n",
            "       | Downloading package wordnet to /root/nltk_data...\n",
            "       |   Package wordnet is already up-to-date!\n",
            "       | Downloading package wordnet2021 to /root/nltk_data...\n",
            "       |   Package wordnet2021 is already up-to-date!\n",
            "       | Downloading package wordnet2022 to /root/nltk_data...\n",
            "       |   Package wordnet2022 is already up-to-date!\n",
            "       | Downloading package wordnet31 to /root/nltk_data...\n",
            "       |   Package wordnet31 is already up-to-date!\n",
            "       | Downloading package wordnet_ic to /root/nltk_data...\n",
            "       |   Package wordnet_ic is already up-to-date!\n",
            "       | Downloading package words to /root/nltk_data...\n",
            "       |   Package words is already up-to-date!\n",
            "       | Downloading package ycoe to /root/nltk_data...\n",
            "       |   Package ycoe is already up-to-date!\n",
            "       | \n",
            "     Done downloading collection all\n"
          ]
        },
        {
          "name": "stdout",
          "output_type": "stream",
          "text": [
            "\n",
            "---------------------------------------------------------------------------\n",
            "    d) Download   l) List    u) Update   c) Config   h) Help   q) Quit\n",
            "---------------------------------------------------------------------------\n",
            "Downloader> q\n"
          ]
        }
      ]
    },
    {
      "cell_type": "code",
      "execution_count": null,
      "metadata": {
        "colab": {
          "base_uri": "https://localhost:8080/",
          "height": 206
        },
        "id": "U1UQL_TPSzxW",
        "outputId": "ba513cce-b974-4590-e1b2-da3795133cb9"
      },
      "outputs": [
        {
          "output_type": "execute_result",
          "data": {
            "text/plain": [
              "                                        Product Name Brand Name   Price  \\\n",
              "0  \"CLEAR CLEAN ESN\" Sprint EPIC 4G Galaxy SPH-D7...    Samsung  199.99   \n",
              "1  \"CLEAR CLEAN ESN\" Sprint EPIC 4G Galaxy SPH-D7...    Samsung  199.99   \n",
              "2  \"CLEAR CLEAN ESN\" Sprint EPIC 4G Galaxy SPH-D7...    Samsung  199.99   \n",
              "3  \"CLEAR CLEAN ESN\" Sprint EPIC 4G Galaxy SPH-D7...    Samsung  199.99   \n",
              "4  \"CLEAR CLEAN ESN\" Sprint EPIC 4G Galaxy SPH-D7...    Samsung  199.99   \n",
              "\n",
              "   Rating                                            Reviews  Review Votes  \\\n",
              "0       5  I feel so LUCKY to have found this used (phone...           1.0   \n",
              "1       4  nice phone, nice up grade from my pantach revu...           0.0   \n",
              "2       5                                       Very pleased           0.0   \n",
              "3       4  It works good but it goes slow sometimes but i...           0.0   \n",
              "4       4  Great phone to replace my lost phone. The only...           0.0   \n",
              "\n",
              "                                        cleanReviews  \n",
              "0  feel lucky found used phone used hard phone li...  \n",
              "1  nice phone nice grade pantach revue clean set ...  \n",
              "2                                            pleased  \n",
              "3     works good goes slow sometimes good phone love  \n",
              "4  great phone replace lost phone thing volume bu...  "
            ],
            "text/html": [
              "\n",
              "  <div id=\"df-1ce3ce63-a824-4042-a2d0-4c99e280f797\">\n",
              "    <div class=\"colab-df-container\">\n",
              "      <div>\n",
              "<style scoped>\n",
              "    .dataframe tbody tr th:only-of-type {\n",
              "        vertical-align: middle;\n",
              "    }\n",
              "\n",
              "    .dataframe tbody tr th {\n",
              "        vertical-align: top;\n",
              "    }\n",
              "\n",
              "    .dataframe thead th {\n",
              "        text-align: right;\n",
              "    }\n",
              "</style>\n",
              "<table border=\"1\" class=\"dataframe\">\n",
              "  <thead>\n",
              "    <tr style=\"text-align: right;\">\n",
              "      <th></th>\n",
              "      <th>Product Name</th>\n",
              "      <th>Brand Name</th>\n",
              "      <th>Price</th>\n",
              "      <th>Rating</th>\n",
              "      <th>Reviews</th>\n",
              "      <th>Review Votes</th>\n",
              "      <th>cleanReviews</th>\n",
              "    </tr>\n",
              "  </thead>\n",
              "  <tbody>\n",
              "    <tr>\n",
              "      <th>0</th>\n",
              "      <td>\"CLEAR CLEAN ESN\" Sprint EPIC 4G Galaxy SPH-D7...</td>\n",
              "      <td>Samsung</td>\n",
              "      <td>199.99</td>\n",
              "      <td>5</td>\n",
              "      <td>I feel so LUCKY to have found this used (phone...</td>\n",
              "      <td>1.0</td>\n",
              "      <td>feel lucky found used phone used hard phone li...</td>\n",
              "    </tr>\n",
              "    <tr>\n",
              "      <th>1</th>\n",
              "      <td>\"CLEAR CLEAN ESN\" Sprint EPIC 4G Galaxy SPH-D7...</td>\n",
              "      <td>Samsung</td>\n",
              "      <td>199.99</td>\n",
              "      <td>4</td>\n",
              "      <td>nice phone, nice up grade from my pantach revu...</td>\n",
              "      <td>0.0</td>\n",
              "      <td>nice phone nice grade pantach revue clean set ...</td>\n",
              "    </tr>\n",
              "    <tr>\n",
              "      <th>2</th>\n",
              "      <td>\"CLEAR CLEAN ESN\" Sprint EPIC 4G Galaxy SPH-D7...</td>\n",
              "      <td>Samsung</td>\n",
              "      <td>199.99</td>\n",
              "      <td>5</td>\n",
              "      <td>Very pleased</td>\n",
              "      <td>0.0</td>\n",
              "      <td>pleased</td>\n",
              "    </tr>\n",
              "    <tr>\n",
              "      <th>3</th>\n",
              "      <td>\"CLEAR CLEAN ESN\" Sprint EPIC 4G Galaxy SPH-D7...</td>\n",
              "      <td>Samsung</td>\n",
              "      <td>199.99</td>\n",
              "      <td>4</td>\n",
              "      <td>It works good but it goes slow sometimes but i...</td>\n",
              "      <td>0.0</td>\n",
              "      <td>works good goes slow sometimes good phone love</td>\n",
              "    </tr>\n",
              "    <tr>\n",
              "      <th>4</th>\n",
              "      <td>\"CLEAR CLEAN ESN\" Sprint EPIC 4G Galaxy SPH-D7...</td>\n",
              "      <td>Samsung</td>\n",
              "      <td>199.99</td>\n",
              "      <td>4</td>\n",
              "      <td>Great phone to replace my lost phone. The only...</td>\n",
              "      <td>0.0</td>\n",
              "      <td>great phone replace lost phone thing volume bu...</td>\n",
              "    </tr>\n",
              "  </tbody>\n",
              "</table>\n",
              "</div>\n",
              "      <button class=\"colab-df-convert\" onclick=\"convertToInteractive('df-1ce3ce63-a824-4042-a2d0-4c99e280f797')\"\n",
              "              title=\"Convert this dataframe to an interactive table.\"\n",
              "              style=\"display:none;\">\n",
              "        \n",
              "  <svg xmlns=\"http://www.w3.org/2000/svg\" height=\"24px\"viewBox=\"0 0 24 24\"\n",
              "       width=\"24px\">\n",
              "    <path d=\"M0 0h24v24H0V0z\" fill=\"none\"/>\n",
              "    <path d=\"M18.56 5.44l.94 2.06.94-2.06 2.06-.94-2.06-.94-.94-2.06-.94 2.06-2.06.94zm-11 1L8.5 8.5l.94-2.06 2.06-.94-2.06-.94L8.5 2.5l-.94 2.06-2.06.94zm10 10l.94 2.06.94-2.06 2.06-.94-2.06-.94-.94-2.06-.94 2.06-2.06.94z\"/><path d=\"M17.41 7.96l-1.37-1.37c-.4-.4-.92-.59-1.43-.59-.52 0-1.04.2-1.43.59L10.3 9.45l-7.72 7.72c-.78.78-.78 2.05 0 2.83L4 21.41c.39.39.9.59 1.41.59.51 0 1.02-.2 1.41-.59l7.78-7.78 2.81-2.81c.8-.78.8-2.07 0-2.86zM5.41 20L4 18.59l7.72-7.72 1.47 1.35L5.41 20z\"/>\n",
              "  </svg>\n",
              "      </button>\n",
              "      \n",
              "  <style>\n",
              "    .colab-df-container {\n",
              "      display:flex;\n",
              "      flex-wrap:wrap;\n",
              "      gap: 12px;\n",
              "    }\n",
              "\n",
              "    .colab-df-convert {\n",
              "      background-color: #E8F0FE;\n",
              "      border: none;\n",
              "      border-radius: 50%;\n",
              "      cursor: pointer;\n",
              "      display: none;\n",
              "      fill: #1967D2;\n",
              "      height: 32px;\n",
              "      padding: 0 0 0 0;\n",
              "      width: 32px;\n",
              "    }\n",
              "\n",
              "    .colab-df-convert:hover {\n",
              "      background-color: #E2EBFA;\n",
              "      box-shadow: 0px 1px 2px rgba(60, 64, 67, 0.3), 0px 1px 3px 1px rgba(60, 64, 67, 0.15);\n",
              "      fill: #174EA6;\n",
              "    }\n",
              "\n",
              "    [theme=dark] .colab-df-convert {\n",
              "      background-color: #3B4455;\n",
              "      fill: #D2E3FC;\n",
              "    }\n",
              "\n",
              "    [theme=dark] .colab-df-convert:hover {\n",
              "      background-color: #434B5C;\n",
              "      box-shadow: 0px 1px 3px 1px rgba(0, 0, 0, 0.15);\n",
              "      filter: drop-shadow(0px 1px 2px rgba(0, 0, 0, 0.3));\n",
              "      fill: #FFFFFF;\n",
              "    }\n",
              "  </style>\n",
              "\n",
              "      <script>\n",
              "        const buttonEl =\n",
              "          document.querySelector('#df-1ce3ce63-a824-4042-a2d0-4c99e280f797 button.colab-df-convert');\n",
              "        buttonEl.style.display =\n",
              "          google.colab.kernel.accessAllowed ? 'block' : 'none';\n",
              "\n",
              "        async function convertToInteractive(key) {\n",
              "          const element = document.querySelector('#df-1ce3ce63-a824-4042-a2d0-4c99e280f797');\n",
              "          const dataTable =\n",
              "            await google.colab.kernel.invokeFunction('convertToInteractive',\n",
              "                                                     [key], {});\n",
              "          if (!dataTable) return;\n",
              "\n",
              "          const docLinkHtml = 'Like what you see? Visit the ' +\n",
              "            '<a target=\"_blank\" href=https://colab.research.google.com/notebooks/data_table.ipynb>data table notebook</a>'\n",
              "            + ' to learn more about interactive tables.';\n",
              "          element.innerHTML = '';\n",
              "          dataTable['output_type'] = 'display_data';\n",
              "          await google.colab.output.renderOutput(dataTable, element);\n",
              "          const docLink = document.createElement('div');\n",
              "          docLink.innerHTML = docLinkHtml;\n",
              "          element.appendChild(docLink);\n",
              "        }\n",
              "      </script>\n",
              "    </div>\n",
              "  </div>\n",
              "  "
            ]
          },
          "metadata": {},
          "execution_count": 2
        }
      ],
      "source": [
        "# importing required libraries\n",
        "import pandas as pd\n",
        "# selected the first 50000 rows of data since Colab kernel crashed while processing 400K records\n",
        "df_amazon = pd.read_csv('Amazon_Unlocked_Mobile2.csv')\n",
        "# clean the data\n",
        "df_amazon['cleanReviews']=df_amazon['Reviews'].map(lambda s:preprocess(s)) \n",
        "# display the first few rows of the data\n",
        "df_amazon.head()"
      ]
    },
    {
      "cell_type": "code",
      "execution_count": null,
      "metadata": {
        "id": "HXPh19SKSzxW"
      },
      "outputs": [],
      "source": [
        "# importing required libraries for TFIDF vectorizer\n",
        "from sklearn.feature_extraction.text import TfidfVectorizer\n",
        "tfidf_vect = TfidfVectorizer()\n",
        "# transform the cleaned data from 'cleanReviews' column\n",
        "tfidf_vects = tfidf_vect.fit_transform(df_amazon['cleanReviews'].values.astype('U'))\n",
        "names= tfidf_vect.get_feature_names_out()"
      ]
    },
    {
      "cell_type": "code",
      "execution_count": null,
      "metadata": {
        "colab": {
          "base_uri": "https://localhost:8080/",
          "height": 636
        },
        "id": "Gt2ttfGTSzxW",
        "outputId": "20a6c67f-923c-4844-b3d2-6860dec9ab81"
      },
      "outputs": [
        {
          "output_type": "stream",
          "name": "stderr",
          "text": [
            "/usr/local/lib/python3.9/dist-packages/sklearn/cluster/_kmeans.py:870: FutureWarning: The default value of `n_init` will change from 10 to 'auto' in 1.4. Set the value of `n_init` explicitly to suppress the warning\n",
            "  warnings.warn(\n"
          ]
        },
        {
          "output_type": "execute_result",
          "data": {
            "text/plain": [
              "Text(0, 0.5, 'Frequency')"
            ]
          },
          "metadata": {},
          "execution_count": 5
        },
        {
          "output_type": "display_data",
          "data": {
            "text/plain": [
              "<Figure size 1100x600 with 1 Axes>"
            ],
            "image/png": "[encoded data removed]"
          },
          "metadata": {}
        }
      ],
      "source": [
        "# importing the required libraries for elbow method\n",
        "from sklearn.cluster import KMeans\n",
        "import matplotlib.pyplot as plt\n",
        "\n",
        "# create an empty array\n",
        "w = []\n",
        "# run the code for 2-11 clusters\n",
        "for i in range(2,12):\n",
        "    # run the method for KMeans for different values of clusters\n",
        "    kmeans = KMeans(n_clusters = i, init = \"k-means++\", random_state = 202)\n",
        "    # fit the model\n",
        "    kmeans.fit(tfidf_vects)\n",
        "    w.append(kmeans.inertia_)\n",
        "\n",
        "# plot the graph\n",
        "plt.figure(figsize = (11,6))\n",
        "plt.plot(range(2,12), w, marker = \"o\")\n",
        "plt.title (\"Output of Elbow\")\n",
        "plt.xlabel(\"No. of clusters\")\n",
        "plt.ylabel(\"Frequency\")"
      ]
    },
    {
      "cell_type": "code",
      "execution_count": null,
      "metadata": {
        "colab": {
          "base_uri": "https://localhost:8080/"
        },
        "id": "PlJ7aAc9SzxW",
        "outputId": "6317e00d-551e-4351-ee51-dad2e466b2d7"
      },
      "outputs": [
        {
          "output_type": "execute_result",
          "data": {
            "text/plain": [
              "Counter({1: 7132, 4: 386, 0: 1564, 3: 498, 2: 212, 5: 207})"
            ]
          },
          "metadata": {},
          "execution_count": 6
        }
      ],
      "source": [
        "# selecting no of clusters = 6 as shown by Elbow method\n",
        "# import required libraries\n",
        "from sklearn.cluster import KMeans\n",
        "# create and fit the model\n",
        "model = KMeans(n_clusters = 6,init='k-means++',max_iter=100, random_state=50)\n",
        "model.fit(tfidf_vects)\n",
        "from collections import Counter\n",
        "Counter(model.labels_)"
      ]
    },
    {
      "cell_type": "code",
      "execution_count": null,
      "metadata": {
        "colab": {
          "base_uri": "https://localhost:8080/"
        },
        "id": "6QlwR1nhSzxW",
        "outputId": "60f088f6-8322-4cda-b060-662c4a1ee40a"
      },
      "outputs": [
        {
          "output_type": "stream",
          "name": "stdout",
          "text": [
            "Cluster 1\n",
            "Top Words: ['new', 'iphone', 'phone', 'like', 'brand', 'great', 'works', 'came', 'good', 'condition']\n",
            "Cluster 2\n",
            "Top Words: ['phone', 'good', 'work', 'great', 'works', 'screen', 'perfect', 'nice', 'use', 'one']\n",
            "Cluster 3\n",
            "Top Words: ['excellent', 'product', 'recommend', 'phone', 'thanks', 'condition', 'thank', 'seller', 'arrived', 'great']\n",
            "Cluster 4\n",
            "Top Words: ['great', 'works', 'phone', 'product', 'price', 'condition', 'fast', 'shipping', 'expected', 'service']\n",
            "Cluster 5\n",
            "Top Words: ['good', 'phone', 'product', 'works', 'far', 'condition', 'thanks', 'price', 'buy', 'item']\n",
            "Cluster 6\n",
            "Top Words: ['love', 'phone', 'great', 'works', 'thanks', 'thank', 'much', 'best', 'fast', 'iphone']\n"
          ]
        }
      ],
      "source": [
        "# Show the top 10 keywords from each cluster\n",
        "top_words = 10\n",
        "# calculate the centroids\n",
        "centroids = model.cluster_centers_.argsort()[:, ::-1]\n",
        "for n in range(6):\n",
        "    key_features = [names[i] for i in centroids[n, :top_words]]\n",
        "    print('Cluster '+str(n+1))\n",
        "    print('Top Words:', key_features)"
      ]
    },
    {
      "cell_type": "code",
      "execution_count": null,
      "metadata": {
        "colab": {
          "base_uri": "https://localhost:8080/"
        },
        "id": "6KQfNpYmSzxW",
        "outputId": "89a3727e-3b98-4e74-abd5-8782cd385bc3"
      },
      "outputs": [
        {
          "output_type": "execute_result",
          "data": {
            "text/plain": [
              "array([[0.00000000e+00, 1.78002094e-04, 0.00000000e+00, ...,\n",
              "        0.00000000e+00, 1.55881318e-03, 0.00000000e+00],\n",
              "       [8.28939903e-06, 0.00000000e+00, 2.70457662e-04, ...,\n",
              "        4.98439175e-05, 0.00000000e+00, 5.23524081e-05],\n",
              "       [0.00000000e+00, 0.00000000e+00, 0.00000000e+00, ...,\n",
              "        0.00000000e+00, 0.00000000e+00, 0.00000000e+00],\n",
              "       [0.00000000e+00, 0.00000000e+00, 0.00000000e+00, ...,\n",
              "        0.00000000e+00, 0.00000000e+00, 0.00000000e+00],\n",
              "       [0.00000000e+00, 0.00000000e+00, 0.00000000e+00, ...,\n",
              "        0.00000000e+00, 0.00000000e+00, 0.00000000e+00],\n",
              "       [0.00000000e+00, 0.00000000e+00, 0.00000000e+00, ...,\n",
              "        0.00000000e+00, 0.00000000e+00, 0.00000000e+00]])"
            ]
          },
          "metadata": {},
          "execution_count": 8
        }
      ],
      "source": [
        "# print the cluster centers\n",
        "cc=model.cluster_centers_\n",
        "cc"
      ]
    },
    {
      "cell_type": "code",
      "execution_count": null,
      "metadata": {
        "colab": {
          "base_uri": "https://localhost:8080/"
        },
        "id": "pIEYG5mkSzxX",
        "outputId": "29d3e064-5b82-4df8-fe21-cb3e76fa3359"
      },
      "outputs": [
        {
          "output_type": "stream",
          "name": "stderr",
          "text": [
            "<ipython-input-11-d726504a11e3>:26: RuntimeWarning: invalid value encountered in true_divide\n",
            "  v = v/count\n"
          ]
        }
      ],
      "source": [
        "# run the DBSCAN algorithm\n",
        "# import required libraries\n",
        "import gensim\n",
        "import numpy as np\n",
        "\n",
        "reviews=[]\n",
        "vectors = []\n",
        "\n",
        "for i in df_amazon['cleanReviews']:\n",
        "    reviews.append(str(i).split())\n",
        "\n",
        "# run the Word2Vec model\n",
        "w2v_model=gensim.models.Word2Vec(reviews, workers=4)\n",
        "\n",
        "for i in reviews:\n",
        "    v = np.zeros(100)\n",
        "    # create a count of occurences for each word\n",
        "    count = 0\n",
        "    for word in i:\n",
        "        try:\n",
        "            vec = w2v_model.wv[word]\n",
        "            v += vec\n",
        "            count += 1\n",
        "        except:\n",
        "            pass\n",
        "    v = v/count\n",
        "    vectors.append(v)  \n",
        "vectors = np.array(vectors)\n",
        "vectors = np.nan_to_num(vectors)"
      ]
    },
    {
      "cell_type": "code",
      "execution_count": null,
      "metadata": {
        "colab": {
          "base_uri": "https://localhost:8080/"
        },
        "id": "nPNw3OV8SzxX",
        "outputId": "16477477-d773-4e67-e79f-4bc3088d80f0"
      },
      "outputs": [
        {
          "output_type": "execute_result",
          "data": {
            "text/plain": [
              "(49999, 100)"
            ]
          },
          "metadata": {},
          "execution_count": 10
        }
      ],
      "source": [
        "from sklearn.cluster import DBSCAN\n",
        "min = 2 * 100\n",
        "# Lower bound function\n",
        "def lower_bound(nums, target): \n",
        "    l, r = 0, len(nums) - 1\n",
        "    # Binary searching\n",
        "    while l <= r:\n",
        "        mid = int(l + (r - l) / 2)\n",
        "        if nums[mid] >= target:\n",
        "            r = mid - 1\n",
        "        else:\n",
        "            l = mid + 1\n",
        "    return l\n",
        "\n",
        "def findNN(x, data): \n",
        "    dists = []\n",
        "    for val in data:\n",
        "      # computing distances\n",
        "        dist = np.sum((x - val) **2 ) \n",
        "        if(len(dists) == 20 and dists[19] > dist): \n",
        "            l = int(lower_bound(dists, dist)) \n",
        "            if l < 20 and l >= 0 and dists[l] > dist:\n",
        "                dists[l] = dist\n",
        "        else:\n",
        "            dists.append(dist)\n",
        "            dists.sort()\n",
        "\n",
        "# Dist 199 contains the distance of 200th nearest neighbour.    \n",
        "    return dists[20]\n",
        "\n",
        "vectors.shape"
      ]
    },
    {
      "cell_type": "code",
      "execution_count": null,
      "metadata": {
        "id": "jx4xkI16SzxX"
      },
      "outputs": [],
      "source": [
        "# Create the model for DBSCAN\n",
        "model_dbs = DBSCAN(eps = 5, min_samples = min)\n",
        "model_dbs.fit(vectors)"
      ]
    },
    {
      "cell_type": "code",
      "source": [
        "# Hierarchical clustering\n",
        "# importing the required libraries\n",
        "import scipy.cluster.hierarchy as shc\n",
        "\n",
        "# plot the dendrogram\n",
        "plt.figure(figsize=(10, 7))  \n",
        "plt.title(\"Dendrograms\")  \n",
        "dend = shc.dendrogram(shc.linkage(vectors, method='ward'))"
      ],
      "metadata": {
        "colab": {
          "base_uri": "https://localhost:8080/",
          "height": 626
        },
        "id": "F9wxslNNxDQX",
        "outputId": "14e10524-1928-4182-ff29-3a47e52c1087"
      },
      "execution_count": null,
      "outputs": [
        {
          "output_type": "display_data",
          "data": {
            "text/plain": [
              "<Figure size 1000x700 with 1 Axes>"
            ],
            "image/png": "[encoded data removed]"
          },
          "metadata": {}
        }
      ]
    },
    {
      "cell_type": "code",
      "execution_count": null,
      "metadata": {
        "id": "M4RVdK4fSzxY"
      },
      "outputs": [],
      "source": [
        "# printing the cluster labels\n",
        "df_amazon['cluster_labels'] = cluster.labels_\n",
        "df_amazon.head()"
      ]
    },
    {
      "cell_type": "code",
      "execution_count": null,
      "metadata": {
        "id": "vfUhPA9sSzxY"
      },
      "outputs": [],
      "source": [
        "hier_df = df_amazon # Give the labels and group to count the number of data in each clusters.\n",
        "hier_df[\"Hierarchial Cluster Labels\"] = cluster.labels_\n",
        "hier_df.groupby([\"Hierarchial Cluster Labels\"])[\"Reviews\"].count()"
      ]
    },
    {
      "cell_type": "markdown",
      "metadata": {
        "id": "7udvW17ySzxY"
      },
      "source": [
        "In one paragraph, please compare the results of K-means, DBSCAN, Hierarchical clustering, Word2Vec, and BERT."
      ]
    },
    {
      "cell_type": "code",
      "execution_count": null,
      "metadata": {
        "id": "_UoTiweHSzxY"
      },
      "outputs": [],
      "source": [
        "#You can write you answer here. (No code needed)\n",
        "\n",
        "# DBSCAN clustering works based on density of points in a region. It has an advantage that the user doesn't need to specify the no. of clusters \n",
        "# in advance. Hierarchical clustering works on bottom up approach as shown in above figure in the dendrogram. K-Means clustering works on the \n",
        "# principle dividing the data into clusters based on which points are closest to the center of a predefined cluster.\n",
        "# In this case, hierarchical clustering has shown a clear output."
      ]
    }
  ],
  "metadata": {
    "kernelspec": {
      "display_name": "Python 3 (ipykernel)",
      "language": "python",
      "name": "python3"
    },
    "language_info": {
      "codemirror_mode": {
        "name": "ipython",
        "version": 3
      },
      "file_extension": ".py",
      "mimetype": "text/x-python",
      "name": "python",
      "nbconvert_exporter": "python",
      "pygments_lexer": "ipython3",
      "version": "3.8.8"
    },
    "colab": {
      "provenance": [],
      "include_colab_link": true
    }
  },
  "nbformat": 4,
  "nbformat_minor": 0
}