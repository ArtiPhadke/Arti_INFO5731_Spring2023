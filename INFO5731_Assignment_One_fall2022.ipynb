{
  "cells": [
    {
      "cell_type": "markdown",
      "metadata": {
        "id": "view-in-github",
        "colab_type": "text"
      },
      "source": [
        "<a href=\"https://colab.research.google.com/github/ArtiPhadke/Arti_INFO5731_Spring2023/blob/main/INFO5731_Assignment_One_fall2022.ipynb\" target=\"_parent\"><img src=\"https://colab.research.google.com/assets/colab-badge.svg\" alt=\"Open In Colab\"/></a>"
      ]
    },
    {
      "cell_type": "markdown",
      "metadata": {
        "id": "Ryk8D1Q4Wsrp"
      },
      "source": [
        "# **INFO5731 Assignment One**"
      ]
    },
    {
      "cell_type": "markdown",
      "source": [
        "Name: Arti Phadke"
      ],
      "metadata": {
        "id": "AckOr9GmGXwT"
      }
    },
    {
      "cell_type": "markdown",
      "metadata": {
        "id": "90_NR8c5XGWc"
      },
      "source": [
        "# Question 1\n",
        "\n",
        "(20 points). Write a Python program to generate 12 random numbers between 1 and 100. Sort the list of numbers in ascending order and print it out. Sort the list of numbers in descending order and print it out. Calculate the average for the group and print it out."
      ]
    },
    {
      "cell_type": "code",
      "execution_count": null,
      "metadata": {
        "id": "5QX6bJjGWXY9",
        "outputId": "fdd58251-6d3e-40c1-adfa-8ae83fcc40f8"
      },
      "outputs": [
        {
          "name": "stdout",
          "output_type": "stream",
          "text": [
            "Randomised list is:  [80, 33, 95, 46, 89, 95, 84, 68, 4, 60, 100, 32]\n",
            "ascending list is:      [4, 32, 33, 46, 60, 68, 80, 84, 89, 95, 95, 100]\n",
            "descending list is:      [100, 95, 95, 89, 84, 80, 68, 60, 46, 33, 32, 4]\n",
            "\n",
            "Total of 12 nummbers in list is: 786\n",
            "Average of 12 nummbers in list is:65.50\n"
          ]
        }
      ],
      "source": [
        "# Your code here\n",
        "import random\n",
        "\n",
        "# variables declaration\n",
        "myList1 = []\n",
        "asc_myList1 = []\n",
        "dsc_myList1 = []\n",
        "total = 0\n",
        "\n",
        "random.seed(5)\n",
        "\n",
        "# generating 12 random numbers between 1 to 100\n",
        "for n in range(12):\n",
        "    myList1.append(random.randint(1,101))\n",
        "print('Randomised list is: ',myList1)\n",
        "\n",
        "# sorting in ascending order\n",
        "myList1.sort()\n",
        "print(\"ascending list is:     \",myList1)\n",
        "\n",
        "# sorting in descending order\n",
        "myList1.reverse()\n",
        "print(\"descending list is:     \",myList1)\n",
        "\n",
        "# calculating sum\n",
        "for i in myList1:\n",
        "    total +=i\n",
        "\n",
        "print(\"\\nTotal of 12 nummbers in list is:\", total)\n",
        "\n",
        "# calculating average\n",
        "print(\"Average of 12 nummbers in list is:{0:.2f}\".format(total/12))\n"
      ]
    },
    {
      "cell_type": "markdown",
      "metadata": {
        "id": "1F_PZdH9Sh49"
      },
      "source": [
        "# Question 2\n",
        "(25 points). Write a program that will do the following string formatting tasks:\n",
        "\n",
        "(1) Ask the user to enter two sentences.\n",
        "\n",
        "(2) Make each sentence into a list. Each element in the list should correspond to a word in the sentence. For example, if the sentence is \"Alas! Am I alive? This is my first python program\", the program should print out ['Alas, '!', 'Am', 'I', 'alive, '?', 'This', 'is', 'my', 'first', 'python', 'program'].\n",
        "\n",
        "(3) Compare the two sentences. Print out a list of words that occur in both sentences.\n",
        "\n",
        "(4) Remove any punctuation from the sentence and print it back out. It should remove at least the following characters, but it can remove more: period(“.”), comma (“,”), semicolon (“;”), and colon (“:”)\n",
        "\n",
        "(5) Count the number of vowels in the sentences. Print out each vowel and the number of times it appears in the sentences, such as: a:2, e:1, i:0, etc"
      ]
    },
    {
      "cell_type": "code",
      "execution_count": null,
      "metadata": {
        "id": "Y0oOSlsOS0cq",
        "outputId": "41362a36-6aeb-4c5a-d1e6-7b33b38170b5"
      },
      "outputs": [
        {
          "name": "stdout",
          "output_type": "stream",
          "text": [
            "Alas! Am I alive? This is my first python program\n",
            "Hi! I can write python program\n",
            "['Alas', '!', 'Am', 'I', 'alive', '?', 'This', 'is', 'my', 'first', 'python', 'program']\n",
            "['Hi', '!', 'I', 'can', 'write', 'python', 'program']\n",
            "words appearing in both sentences ['!', 'I', 'python', 'program']\n",
            "removing symbols from sentence 1 ['Alas', 'Am', 'I', 'alive', 'This', 'is', 'my', 'first', 'python', 'program']\n",
            "removing symbols from sentence 2 ['Hi', 'I', 'can', 'write', 'python', 'program']\n",
            "printing count of vowels from sentence 1:\n",
            "a:5,e:1,i:5,o:2,u:0,\n",
            "printing count of vowels from sentence 2:\n",
            "a:7,e:2,i:8,o:4,u:0,\n"
          ]
        }
      ],
      "source": [
        "# Your code here\n",
        "\n",
        "# declaring variables\n",
        "list1 = []\n",
        "list2 = []\n",
        "list3 = []\n",
        "list4 = []\n",
        "common_mylist= []\n",
        "list5 = []\n",
        "list6 = []\n",
        "\n",
        "# list containing symbols\n",
        "list_exclm = ['?','!','.',':',';']\n",
        "count_a = 0\n",
        "count_e = 0\n",
        "count_i = 0\n",
        "count_o = 0\n",
        "count_u = 0\n",
        "\n",
        "# 1) 2 sentenses entered by user\n",
        "sentense1 = input()\n",
        "#input(\"Enter first sentense\")\n",
        "sentense2 = input()\n",
        "#input(\"Enter second sentense\")\n",
        "\n",
        "list1 = sentense1.split(\" \")\n",
        "list2 = sentense2.split(\" \")\n",
        "\n",
        "\n",
        "#print(list1)\n",
        "\n",
        "# 2) creating list 1 from sentense 1 \n",
        "for i in list1:\n",
        "    if '!' not in i and '?' not in i and '.' not in i and ';' not in i:\n",
        "        list3.append(i)\n",
        "    else:\n",
        "        list3.append(i[0:(len(i)-1)])\n",
        "        list3.append(i[len(i)-1:len(i)])\n",
        "\n",
        "        \n",
        "print(list3)\n",
        "\n",
        "# creating list 2 from sentense 2\n",
        "#print(list2)\n",
        "for i in list2:\n",
        "    if '!' not in i and '?' not in i and '.' not in i and ';' not in i:\n",
        "        list4.append(i)\n",
        "    else:\n",
        "        list4.append(i[0:(len(i)-1)])\n",
        "        list4.append(i[len(i)-1:len(i)])\n",
        "\n",
        "print(list4)\n",
        "  \n",
        "\n",
        "# 3)  words appearing in both sentenses\n",
        "for i in list3:\n",
        "    for j in list4:\n",
        "        if i== j:\n",
        "            common_mylist.append(i)\n",
        "print('words appearing in both sentences', common_mylist)            \n",
        "\n",
        "# 4) removing symbols & printing from 1st sentense\n",
        "for i in list3:\n",
        "    if '!' not in i and '?' not in i and '.' not in i and ';' not in i:\n",
        "        list5.append(i)\n",
        "print('removing symbols from sentence 1',list5)\n",
        "\n",
        "# removing symbols & printing from 2nd sentense\n",
        "for i in list4:\n",
        "    if '!' not in i and '?' not in i and '.' not in i and ';' not in i:\n",
        "        list6.append(i)\n",
        "print('removing symbols from sentence 2',list6)\n",
        "\n",
        "# 5) counting vowels\n",
        "print('printing count of vowels from sentence 1:')\n",
        "for c in sentense1:\n",
        "    if c.lower() == 'a':\n",
        "        count_a+=1\n",
        "    elif c.lower() == 'e':\n",
        "        count_e+=1\n",
        "    elif c.lower() == 'i':\n",
        "        count_i+=1\n",
        "    elif c.lower() == 'o':\n",
        "        count_o+=1\n",
        "    elif c.lower() == 'u':\n",
        "        count_u+=1\n",
        "\n",
        "print(f'a:{count_a},e:{count_e},i:{count_i},o:{count_o},u:{count_u},')\n",
        "    \n",
        "\n",
        "print('printing count of vowels from sentence 2:')\n",
        "for c in sentense2:\n",
        "    if c.lower() == 'a':\n",
        "        count_a+=1\n",
        "    elif c.lower() == 'e':\n",
        "        count_e+=1\n",
        "    elif c.lower() == 'i':\n",
        "        count_i+=1\n",
        "    elif c.lower() == 'o':\n",
        "        count_o+=1\n",
        "    elif c.lower() == 'u':\n",
        "        count_u+=1\n",
        "\n",
        "print(f'a:{count_a},e:{count_e},i:{count_i},o:{count_o},u:{count_u},')\n",
        "\n"
      ]
    },
    {
      "cell_type": "markdown",
      "metadata": {
        "id": "CmFoI4jDS9nx"
      },
      "source": [
        "# Question 3 \n",
        "\n",
        "(15 points). The formula that describes the volume V of a sphere with radius r is the following:\n",
        "\n",
        "$ V=\\frac{4}{3}\\ast\\ \\pi\\ast\\ r^3 $\n",
        "\n",
        "Write a program to calculate the value of V when r is in the range of 1–10. Output the result in the following format:\n",
        "\n",
        "\tr\tV\n",
        "\t1\t…\n",
        "\t2\t…\n",
        "\t3\t…\n"
      ]
    },
    {
      "cell_type": "code",
      "execution_count": null,
      "metadata": {
        "id": "pEyqeioAT95b",
        "outputId": "378c2fd8-dd89-4f6c-e2a2-99e28ad895c1"
      },
      "outputs": [
        {
          "name": "stdout",
          "output_type": "stream",
          "text": [
            "r \t V\n",
            "1 \t 4.2\n",
            "2 \t 3.3e+01\n",
            "3 \t 1.1e+02\n",
            "4 \t 2.7e+02\n",
            "5 \t 5.2e+02\n",
            "6 \t 9e+02\n",
            "7 \t 1.4e+03\n",
            "8 \t 2.1e+03\n",
            "9 \t 3.1e+03\n",
            "10 \t 4.2e+03\n"
          ]
        }
      ],
      "source": [
        "# Your code here\n",
        "\n",
        "# defining constant PI\n",
        "PI = 3.14\n",
        "\n",
        "# calculating & printing volume of sphere with radius values between 1 to 10\n",
        "print(\"r \\t V\")\n",
        "for r in range(1,11):\n",
        "    V = (4/3) * PI * r**3\n",
        "    print(f\"{r} \\t {V:.2}\")\n"
      ]
    },
    {
      "cell_type": "markdown",
      "metadata": {
        "id": "z3tBE7E-Xn5X"
      },
      "source": [
        "# Question 4\n",
        "\n",
        "(40 points). In the field of Data Science, data is often formatted as a comma-delimited (CSV) file, where each line in a file corresponds to a field's value. Refer to Chapter 9 (p. 106) for more information on comma-delimited files. To answer this question, you will need to download the file [Assignment1_denton_housing.csv](https://raw.githubusercontent.com/unt-iialab/info5731-spring2022/main/assignments/Assignment1_denton_housing.csv) included with this assignment. The file [Assignment1_denton_housing.csv](https://raw.githubusercontent.com/unt-iialab/info5731-spring2022/main/assignments/Assignment1_denton_housing.csv) contains statistics about housing in the city of Denton from 2008 to 2014. Write a program to implement the following questions.\n",
        "\n",
        "(1) (10 pts) Calculate the difference in the number of Occupied Housing Units from year to year and print it. The difference must be calculated for the consecutive years such as 2008-2009, 2009-2010 etc. Finally, print the values in the ascending order.\n",
        "\n",
        "(2) (10 pts) For all the years, calculate the percentage of housing units which are vacant an occupied. Print the results in the following format:\n",
        "\n",
        "Year Vacant Housing Units Occupied Housing Units\n",
        "\n",
        "    2008  30%   70%                          \n",
        "\t2009 ----- -----\n",
        "\t2010 ----- -----\n",
        "    2011 ----- -----\n",
        "\t2012 ----- -----\n",
        "    2013 ----- -----\n",
        "\t2014 ----- -----\n",
        "  \n",
        "  \n",
        "\n",
        "(3) (10 pts) Calculate and print the valued and years in which the highest number of housing units were vacant and occupied. Print the results in the following format:  \n",
        "\n",
        "                              Year\tValue\n",
        "\tVacant Housing Units\t  -----   -----\n",
        "\tOccupied Housing Units\t-----   -----\n",
        "\n",
        "(4) (10 pts) Calculate the harmonic mean of the total housing units and print it out. You can find the information about harmonic mean here: https://ncalculators.com/statistics/harmonic-mean-calculator.htm"
      ]
    },
    {
      "cell_type": "code",
      "execution_count": null,
      "metadata": {
        "id": "lqGYuHBhcsRH",
        "outputId": "498670e8-b6d4-487c-d184-88fbbc1e5fff"
      },
      "outputs": [
        {
          "name": "stdout",
          "output_type": "stream",
          "text": [
            "prices in sorted order are:\n",
            "-5091\n",
            "-2622\n",
            "-1565\n",
            "-1404\n",
            "303\n",
            "795\n",
            "\n",
            "Years\tOccupied Housing Units\tVaccant Hosuing Units\n",
            "-------------------------------------------------------\n",
            "2014\t16.16\t\t\t10.84 \n",
            "2013\t15.25\t\t\t16.24 \n",
            "2012\t14.70\t\t\t11.61 \n",
            "2011\t14.21\t\t\t16.23 \n",
            "2010\t14.32\t\t\t14.00 \n",
            "2009\t12.54\t\t\t13.80 \n",
            "2008\t12.82\t\t\t17.27 \n",
            "\n",
            "\t\t\tYear\tValue\n",
            "---------------------------------------\n",
            "Occupied Housing Units\t2014\t46295\n",
            "Vacant Housing Units\t2008\t4483\n",
            "\n",
            "Harmonic mean is: 3657.43\n"
          ]
        }
      ],
      "source": [
        "# Your code here\n",
        "\n",
        "\n",
        "import csv\n",
        "\n",
        "years_o = []\n",
        "years_v = []\n",
        "prices_o = []\n",
        "prices_v = []\n",
        "list_prices= []\n",
        "list_price= []\n",
        "prices_ov = []\n",
        "addition = 0\n",
        "\n",
        "with open('Assignment1_denton_housing.csv') as file:\n",
        "        row = csv.reader(file)\n",
        "        for i in row:\n",
        "            if i[2] != 'value':\n",
        "                prices_ov.append(int(i[2]))\n",
        "   \n",
        "            if i[1] == 'Occupied Housing Units':\n",
        "                years_o.append(i[0]) \n",
        "                prices_o.append(int(i[2]))\n",
        "            elif i[1] == 'Vacant Housing Units':\n",
        "                years_v.append(i[0]) \n",
        "                prices_v.append(int(i[2]))\n",
        "            \n",
        "sorted_years = years_o[::-1]\n",
        "sorted_prices = prices_o[::-1]\n",
        "\n",
        "for i in range(0,len(sorted_prices)-1):\n",
        "    list_prices.append(sorted_prices[i]-sorted_prices[i+1])\n",
        "\n",
        "# difference in the number of Occupied Housing Units, in sorted order\n",
        "print(\"prices in sorted order are:\")\n",
        "for i in sorted(list_prices):\n",
        "    print(i) \n",
        "\n",
        "#percentage of housing units which are vacant and occupied\n",
        "print()\n",
        "print(f\"Years\\tOccupied Housing Units % \\tVaccant Hosuing Units %\")\n",
        "print('-------------------------------------------------------')\n",
        "for i in range(0,len(years_o)):\n",
        "    print(f\"{years_o[i]}\\t{(prices_o[i]/sum(prices_o))*100:.2f}\\t\\t\\t{(prices_v[i]/sum(prices_v))*100:.2f} \")\n",
        "\n",
        "print()\n",
        "print(f\"\\t\\t\\tYear\\tValue\")\n",
        "print('---------------------------------------')\n",
        "# values and years in which the highest number of housing units were vacant and occupied\n",
        "for i in range(0,len(prices_o)):\n",
        "    if prices_v[i] == max(set(prices_v)):\n",
        "        print(f\"Vacant Housing Units\\t{years_v[i]}\\t{prices_v[i]}\")\n",
        "    elif prices_o[i] == max(set(prices_o)):\n",
        "        print(f\"Occupied Housing Units\\t{years_o[i]}\\t{prices_o[i]}\")\n",
        "        \n",
        "print()        \n",
        "for i in range(0,len(prices_ov)):\n",
        "    addition+=(1/prices_ov[i])\n",
        "\n",
        "# harmonic mean of the total housing units\n",
        "print(f\"Harmonic mean is: {len(prices_ov)/addition:.2f}\")"
      ]
    },
    {
      "cell_type": "code",
      "execution_count": null,
      "metadata": {
        "id": "cZK7oIo9GUJf"
      },
      "outputs": [],
      "source": []
    },
    {
      "cell_type": "code",
      "execution_count": null,
      "metadata": {
        "id": "xys97isqGUJg"
      },
      "outputs": [],
      "source": []
    }
  ],
  "metadata": {
    "colab": {
      "provenance": [],
      "include_colab_link": true
    },
    "kernelspec": {
      "display_name": "Python 3",
      "language": "python",
      "name": "python3"
    },
    "language_info": {
      "codemirror_mode": {
        "name": "ipython",
        "version": 3
      },
      "file_extension": ".py",
      "mimetype": "text/x-python",
      "name": "python",
      "nbconvert_exporter": "python",
      "pygments_lexer": "ipython3",
      "version": "3.8.8"
    }
  },
  "nbformat": 4,
  "nbformat_minor": 0
}